{
 "cells": [
  {
   "cell_type": "markdown",
   "metadata": {},
   "source": [
    "CLAUDE"
   ]
  },
  {
   "cell_type": "code",
   "execution_count": 1,
   "metadata": {},
   "outputs": [
    {
     "data": {
      "text/plain": [
       "'cause require'"
      ]
     },
     "execution_count": 1,
     "metadata": {},
     "output_type": "execute_result"
    }
   ],
   "source": [
    "def decode(message_file):\n",
    "    # Read the input file and store the lines in a list\n",
    "    with open(message_file, 'r') as file:\n",
    "        lines = file.readlines()\n",
    "\n",
    "    # Initialize an empty list to store the message words\n",
    "    message_words = []\n",
    "\n",
    "    # Iterate through the lines\n",
    "    for line in lines:\n",
    "        # Split the line into the number and the word\n",
    "        num, word = line.strip().split()\n",
    "\n",
    "        # Convert the number to an integer\n",
    "        num = int(num)\n",
    "\n",
    "        # If the number is a \"pyramid line number\", append the word to the message_words list\n",
    "        if num == len(message_words) + 1:\n",
    "            message_words.append(word)\n",
    "\n",
    "    # Join the message words into a single string and return it\n",
    "    return ' '.join(message_words)\n",
    "\n",
    "decode(\"message_file.txt\")"
   ]
  },
  {
   "cell_type": "markdown",
   "metadata": {},
   "source": [
    "CJM Way!"
   ]
  },
  {
   "cell_type": "code",
   "execution_count": 2,
   "metadata": {},
   "outputs": [],
   "source": [
    "message_file = \"message_file.txt\""
   ]
  },
  {
   "cell_type": "code",
   "execution_count": 3,
   "metadata": {},
   "outputs": [],
   "source": [
    "# Read the input file and store the lines in a list\n",
    "with open(message_file, 'r') as file:\n",
    "    lines = file.readlines()\n",
    "\n",
    "# Initialize an empty list to store the message words\n",
    "word_num_dict = {}\n",
    "\n",
    "# Iterate through the lines\n",
    "for line in lines:\n",
    "    # Split the line into the number and the word\n",
    "    num, word = line.strip().split()\n",
    "    word_num_dict[int(num)] = word\n",
    "        "
   ]
  },
  {
   "cell_type": "code",
   "execution_count": 4,
   "metadata": {},
   "outputs": [
    {
     "data": {
      "text/plain": [
       "300"
      ]
     },
     "execution_count": 4,
     "metadata": {},
     "output_type": "execute_result"
    }
   ],
   "source": [
    "len(word_num_dict)"
   ]
  },
  {
   "cell_type": "code",
   "execution_count": 7,
   "metadata": {},
   "outputs": [],
   "source": [
    "num_list = list(word_num_dict.keys())"
   ]
  },
  {
   "cell_type": "code",
   "execution_count": 10,
   "metadata": {},
   "outputs": [],
   "source": [
    "num_list_sorted = sorted(num_list)"
   ]
  },
  {
   "cell_type": "code",
   "execution_count": 37,
   "metadata": {},
   "outputs": [],
   "source": [
    "pyramid = []\n",
    "start = 0\n",
    "gap = 1\n",
    "end = 1\n",
    "while end <= len(num_list_sorted):\n",
    "    gap +=1\n",
    "    pyramid.append(num_list_sorted[start:end])\n",
    "    start = end\n",
    "    end = start + gap\n",
    "    "
   ]
  },
  {
   "cell_type": "code",
   "execution_count": 44,
   "metadata": {},
   "outputs": [
    {
     "name": "stdout",
     "output_type": "stream",
     "text": [
      "1 cause\n",
      "3 are\n",
      "6 area\n",
      "10 over\n",
      "15 got\n",
      "21 glad\n",
      "28 lot\n",
      "36 seat\n",
      "45 stop\n",
      "55 guide\n",
      "66 open\n",
      "78 student\n",
      "91 are\n",
      "105 over\n",
      "120 band\n",
      "136 out\n",
      "153 farm\n",
      "171 think\n",
      "190 planet\n",
      "210 good\n",
      "231 kind\n",
      "253 money\n",
      "276 prove\n",
      "300 each\n"
     ]
    }
   ],
   "source": [
    "hidden_msg = \"\"\n",
    "for row in pyramid:\n",
    "    word_idx = row[-1]\n",
    "    word = word_num_dict[word_idx]\n",
    "    print(word_idx, word)\n",
    "    hidden_msg += \" \" + word\n"
   ]
  },
  {
   "cell_type": "code",
   "execution_count": 42,
   "metadata": {},
   "outputs": [
    {
     "name": "stdout",
     "output_type": "stream",
     "text": [
      " cause are area over got glad lot seat stop guide open student are over band out farm think planet good kind money prove each\n"
     ]
    }
   ],
   "source": [
    "print(hidden_msg)"
   ]
  },
  {
   "cell_type": "code",
   "execution_count": 57,
   "metadata": {},
   "outputs": [],
   "source": [
    "### Putting all together in function\n",
    "def decode(message_file):\n",
    "    # Read the input file and store the lines in a list\n",
    "    with open(message_file, 'r') as file:\n",
    "        lines = file.readlines()\n",
    "\n",
    "    # Initialize an empty list to store the message words\n",
    "    word_num_dict = {}\n",
    "\n",
    "    # Iterate through the lines\n",
    "    for line in lines:\n",
    "        # Split the line into the number and the word\n",
    "        num, word = line.strip().split()\n",
    "        word_num_dict[int(num)] = word\n",
    "\n",
    "    # Get a sorted list of numbers to build to pyramid\n",
    "    num_list_sorted = sorted(list(word_num_dict.keys()))\n",
    "\n",
    "    # Build the pyramid\n",
    "    pyramid = []\n",
    "    start = 0\n",
    "    gap = 1\n",
    "    end = 1\n",
    "    while end <= len(num_list_sorted):\n",
    "        gap +=1\n",
    "        pyramid.append(num_list_sorted[start:end])\n",
    "        start = end\n",
    "        end = start + gap\n",
    "\n",
    "    print(pyramid)\n",
    "\n",
    "    # Find out hidden message\n",
    "    msg_list = list() # empty string to store hidden message\n",
    "    for row in pyramid: # iterate through each row in the pyramid\n",
    "        word_idx = row[-1] # get the last number in each row\n",
    "        word = word_num_dict[word_idx] # use the word-number mapping to get the word\n",
    "        msg_list.append(word) #add each word to message string\n",
    "    hidden_msg = \" \".join(msg_list)\n",
    "\n",
    "    return hidden_msg"
   ]
  },
  {
   "cell_type": "code",
   "execution_count": 58,
   "metadata": {},
   "outputs": [
    {
     "name": "stdout",
     "output_type": "stream",
     "text": [
      "[[1], [2, 3], [4, 5, 6], [7, 8, 9, 10], [11, 12, 13, 14, 15], [16, 17, 18, 19, 20, 21], [22, 23, 24, 25, 26, 27, 28], [29, 30, 31, 32, 33, 34, 35, 36], [37, 38, 39, 40, 41, 42, 43, 44, 45], [46, 47, 48, 49, 50, 51, 52, 53, 54, 55], [56, 57, 58, 59, 60, 61, 62, 63, 64, 65, 66], [67, 68, 69, 70, 71, 72, 73, 74, 75, 76, 77, 78], [79, 80, 81, 82, 83, 84, 85, 86, 87, 88, 89, 90, 91], [92, 93, 94, 95, 96, 97, 98, 99, 100, 101, 102, 103, 104, 105], [106, 107, 108, 109, 110, 111, 112, 113, 114, 115, 116, 117, 118, 119, 120], [121, 122, 123, 124, 125, 126, 127, 128, 129, 130, 131, 132, 133, 134, 135, 136], [137, 138, 139, 140, 141, 142, 143, 144, 145, 146, 147, 148, 149, 150, 151, 152, 153], [154, 155, 156, 157, 158, 159, 160, 161, 162, 163, 164, 165, 166, 167, 168, 169, 170, 171], [172, 173, 174, 175, 176, 177, 178, 179, 180, 181, 182, 183, 184, 185, 186, 187, 188, 189, 190], [191, 192, 193, 194, 195, 196, 197, 198, 199, 200, 201, 202, 203, 204, 205, 206, 207, 208, 209, 210], [211, 212, 213, 214, 215, 216, 217, 218, 219, 220, 221, 222, 223, 224, 225, 226, 227, 228, 229, 230, 231], [232, 233, 234, 235, 236, 237, 238, 239, 240, 241, 242, 243, 244, 245, 246, 247, 248, 249, 250, 251, 252, 253], [254, 255, 256, 257, 258, 259, 260, 261, 262, 263, 264, 265, 266, 267, 268, 269, 270, 271, 272, 273, 274, 275, 276], [277, 278, 279, 280, 281, 282, 283, 284, 285, 286, 287, 288, 289, 290, 291, 292, 293, 294, 295, 296, 297, 298, 299, 300]]\n"
     ]
    },
    {
     "data": {
      "text/plain": [
       "'cause are area over got glad lot seat stop guide open student are over band out farm think planet good kind money prove each'"
      ]
     },
     "execution_count": 58,
     "metadata": {},
     "output_type": "execute_result"
    }
   ],
   "source": [
    "decode(\"message_file.txt\")"
   ]
  },
  {
   "cell_type": "code",
   "execution_count": 110,
   "metadata": {},
   "outputs": [],
   "source": [
    "def decode(message_file):\n",
    "    \"\"\"\n",
    "    Decode a message from a file containing word-number pairs arranged in a pyramid structure.\n",
    "\n",
    "    Parameters:\n",
    "    - message_file (str): The path to the file containing the word-number pairs.\n",
    "\n",
    "    Returns:\n",
    "    - hidden_msg (str): The decoded message.\n",
    "    \"\"\"\n",
    "\n",
    "    # Read the input file and store the lines in a list\n",
    "    with open(message_file, 'r') as file:\n",
    "        lines = file.readlines()\n",
    "\n",
    "    # Initialize an empty dictionary to store the word-number mappings\n",
    "    word_num_dict = {}\n",
    "\n",
    "    # Iterate through the lines to populate the word-number dictionary\n",
    "    for line in lines:\n",
    "        num, word = line.strip().split()\n",
    "        word_num_dict[int(num)] = word\n",
    "\n",
    "    # Get a sorted list of numbers to build the pyramid\n",
    "    num_list_sorted = sorted(word_num_dict.keys())\n",
    "\n",
    "    # Build the pyramid\n",
    "    pyramid = []\n",
    "    start = 0\n",
    "    gap = 1\n",
    "    while start < len(num_list_sorted):\n",
    "        end = start + gap\n",
    "        pyramid.append(num_list_sorted[start:end])\n",
    "        start = end\n",
    "        gap += 1\n",
    "\n",
    "    # Find out the hidden message\n",
    "    msg_list = []  # Initialize an empty list to store hidden message words\n",
    "    for row in pyramid:\n",
    "        word_idx = row[-1]  # Get the last number in each row\n",
    "        word = word_num_dict[word_idx]  # Retrieve the word using the word-number mapping\n",
    "        msg_list.append(word)  # Add each word to the message list\n",
    "    hidden_msg = \" \".join(msg_list)\n",
    "\n",
    "    return hidden_msg"
   ]
  },
  {
   "cell_type": "code",
   "execution_count": 112,
   "metadata": {},
   "outputs": [],
   "source": [
    "def decode(message_file):\n",
    "    \"\"\"\n",
    "    Decode a message from a file containing word-number pairs arranged in a pyramid structure.\n",
    "\n",
    "    Parameters:\n",
    "    - message_file (str): The path to the file containing the word-number pairs.\n",
    "\n",
    "    Returns:\n",
    "    - hidden_msg (str): The decoded message.\n",
    "    \"\"\"\n",
    "\n",
    "    # Read the input file and store the lines in a list\n",
    "    with open(message_file, 'r') as file:\n",
    "        lines = file.readlines()\n",
    "\n",
    "    # Initialize an empty dictionary to store the word-number mappings\n",
    "    word_num_dict = {}\n",
    "\n",
    "    # Iterate through the lines to populate the word-number dictionary\n",
    "    for line in lines:\n",
    "        num, word = line.strip().split()\n",
    "        word_num_dict[int(num)] = word\n",
    "\n",
    "    # Get a sorted list of numbers to build the pyramid\n",
    "    num_list_sorted = sorted(word_num_dict.keys())\n",
    "\n",
    "    # Build the pyramid\n",
    "    pyramid = []\n",
    "    start = 0\n",
    "    gap = 1\n",
    "    while start < len(num_list_sorted):\n",
    "        end = start + gap\n",
    "        pyramid.append(num_list_sorted[start:end])\n",
    "        start = end\n",
    "        gap += 1\n",
    "\n",
    "    # Find out the hidden message\n",
    "    msg_list = []  # Initialize an empty list to store hidden message words\n",
    "    for row in pyramid:\n",
    "        word_idx = row[-1]  # Get the last number in each row\n",
    "        word = word_num_dict[word_idx]  # Retrieve the word using the word-number mapping\n",
    "        msg_list.append(word)  # Add each word to the message list\n",
    "    hidden_msg = \" \".join(msg_list)\n",
    "\n",
    "    return hidden_msg"
   ]
  },
  {
   "cell_type": "code",
   "execution_count": 113,
   "metadata": {},
   "outputs": [
    {
     "data": {
      "text/plain": [
       "'cause are area over got glad lot seat stop guide open student are over band out farm think planet good kind money prove each'"
      ]
     },
     "execution_count": 113,
     "metadata": {},
     "output_type": "execute_result"
    }
   ],
   "source": [
    "decode(\"message_file.txt\")"
   ]
  },
  {
   "cell_type": "markdown",
   "metadata": {},
   "source": [
    "# STAIRCASE QUESTION"
   ]
  },
  {
   "cell_type": "code",
   "execution_count": 92,
   "metadata": {},
   "outputs": [],
   "source": [
    "def create_staircase(nums):\n",
    "  while len(nums) != 0:\n",
    "    step = 1\n",
    "    subsets = []\n",
    "    if len(nums) >= step:\n",
    "      subsets.append(nums[0:step])\n",
    "      nums = nums[step:]\n",
    "      step += 1\n",
    "    else:\n",
    "      return False\n",
    "\n",
    "  return subsets"
   ]
  },
  {
   "cell_type": "code",
   "execution_count": 93,
   "metadata": {},
   "outputs": [],
   "source": [
    "ex1 = [1, 2, 3, 4, 5, 6]"
   ]
  },
  {
   "cell_type": "code",
   "execution_count": 94,
   "metadata": {},
   "outputs": [],
   "source": [
    "ex2 =  [1, 2, 3, 4, 5, 6, 7]"
   ]
  },
  {
   "cell_type": "code",
   "execution_count": 95,
   "metadata": {},
   "outputs": [
    {
     "data": {
      "text/plain": [
       "[[6]]"
      ]
     },
     "execution_count": 95,
     "metadata": {},
     "output_type": "execute_result"
    }
   ],
   "source": [
    "create_staircase(ex1)"
   ]
  },
  {
   "cell_type": "code",
   "execution_count": 96,
   "metadata": {},
   "outputs": [
    {
     "data": {
      "text/plain": [
       "[[7]]"
      ]
     },
     "execution_count": 96,
     "metadata": {},
     "output_type": "execute_result"
    }
   ],
   "source": [
    "create_staircase(ex2)"
   ]
  },
  {
   "cell_type": "code",
   "execution_count": 97,
   "metadata": {},
   "outputs": [],
   "source": [
    "def create_staircase(nums):\n",
    "  step = 1\n",
    "  subsets = []\n",
    "  while len(nums) != 0:\n",
    "    if len(nums) >= step:\n",
    "      subsets.append(nums[0:step])\n",
    "      nums = nums[step:]\n",
    "      step += 1\n",
    "    else:\n",
    "      return False\n",
    "      \n",
    "  return subsets"
   ]
  },
  {
   "cell_type": "code",
   "execution_count": 98,
   "metadata": {},
   "outputs": [
    {
     "data": {
      "text/plain": [
       "[[1], [2, 3], [4, 5, 6]]"
      ]
     },
     "execution_count": 98,
     "metadata": {},
     "output_type": "execute_result"
    }
   ],
   "source": [
    "create_staircase(ex1)"
   ]
  },
  {
   "cell_type": "code",
   "execution_count": 99,
   "metadata": {},
   "outputs": [
    {
     "data": {
      "text/plain": [
       "False"
      ]
     },
     "execution_count": 99,
     "metadata": {},
     "output_type": "execute_result"
    }
   ],
   "source": [
    "create_staircase(ex2)"
   ]
  }
 ],
 "metadata": {
  "kernelspec": {
   "display_name": "base",
   "language": "python",
   "name": "python3"
  },
  "language_info": {
   "codemirror_mode": {
    "name": "ipython",
    "version": 3
   },
   "file_extension": ".py",
   "mimetype": "text/x-python",
   "name": "python",
   "nbconvert_exporter": "python",
   "pygments_lexer": "ipython3",
   "version": "3.10.9"
  }
 },
 "nbformat": 4,
 "nbformat_minor": 2
}
