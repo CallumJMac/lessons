{
  "cells": [
    {
      "cell_type": "markdown",
      "id": "b32e57da",
      "metadata": {
        "id": "b32e57da"
      },
      "source": [
        "## Marketing Strategy Analysis\n",
        "#### Programming Script and Technical Report"
      ]
    },
    {
      "cell_type": "markdown",
      "id": "e349f98f",
      "metadata": {
        "id": "e349f98f"
      },
      "source": [
        "### Table of Content\n",
        "1. Introduction\n",
        "2. Data Loading and Quality \n",
        "3. Feature Additions and Engineering\n",
        "4. Exploratory Data Analysis and Statistical Analysis\n",
        "5. Final Recommendations (Optimal Sales)"
      ]
    },
    {
      "cell_type": "markdown",
      "id": "9049adfb",
      "metadata": {
        "id": "9049adfb"
      },
      "source": [
        "### 1. Introduction"
      ]
    },
    {
      "cell_type": "markdown",
      "id": "30b85926",
      "metadata": {
        "id": "30b85926"
      },
      "source": [
        "- What is the impact of each marketing strategy and sales visit on Sales (Amount Collected)?\n",
        "- Is the same strategy valid for all the different client types ?\n"
      ]
    },
    {
      "cell_type": "markdown",
      "id": "579dcfc9",
      "metadata": {
        "id": "579dcfc9"
      },
      "source": [
        "### 2. Data Loading and Quality Checks"
      ]
    },
    {
      "cell_type": "code",
      "execution_count": 4,
      "id": "d14d249a",
      "metadata": {
        "id": "d14d249a"
      },
      "outputs": [],
      "source": [
        "import pandas as pd\n",
        "import numpy as np\n",
        "import seaborn as sns\n",
        "import scipy.stats"
      ]
    },
    {
      "cell_type": "code",
      "execution_count": 6,
      "id": "9844174b",
      "metadata": {
        "colab": {
          "base_uri": "https://localhost:8080/"
        },
        "id": "9844174b",
        "outputId": "d7cabb68-e2be-464b-d382-4a88a0d6c22a"
      },
      "outputs": [
        {
          "data": {
            "text/plain": [
              "Index(['Client ID', 'Client Type', 'Number of Customers', 'Montly Target',\n",
              "       'Zip Code', 'Calendardate', 'Amount Collected', 'Unit Sold',\n",
              "       'Campaign (Email)', 'Campaign (Flyer)', 'Campaign (Phone)',\n",
              "       'Sales Contact 1', 'Sales Contact 2', 'Sales Contact 3',\n",
              "       'Sales Contact 4', 'Sales Contact 5', 'Number of Competition'],\n",
              "      dtype='object')"
            ]
          },
          "execution_count": 6,
          "metadata": {},
          "output_type": "execute_result"
        }
      ],
      "source": [
        "data=pd.read_csv('Campaign-Data.csv')\n",
        "data.columns"
      ]
    },
    {
      "cell_type": "code",
      "execution_count": 7,
      "id": "0f10e736",
      "metadata": {
        "colab": {
          "base_uri": "https://localhost:8080/",
          "height": 354
        },
        "id": "0f10e736",
        "outputId": "6c49430e-d4f7-4a65-a896-b739ee99d797"
      },
      "outputs": [
        {
          "data": {
            "text/html": [
              "<div>\n",
              "<style scoped>\n",
              "    .dataframe tbody tr th:only-of-type {\n",
              "        vertical-align: middle;\n",
              "    }\n",
              "\n",
              "    .dataframe tbody tr th {\n",
              "        vertical-align: top;\n",
              "    }\n",
              "\n",
              "    .dataframe thead th {\n",
              "        text-align: right;\n",
              "    }\n",
              "</style>\n",
              "<table border=\"1\" class=\"dataframe\">\n",
              "  <thead>\n",
              "    <tr style=\"text-align: right;\">\n",
              "      <th></th>\n",
              "      <th>Client ID</th>\n",
              "      <th>Client Type</th>\n",
              "      <th>Number of Customers</th>\n",
              "      <th>Montly Target</th>\n",
              "      <th>Zip Code</th>\n",
              "      <th>Calendardate</th>\n",
              "      <th>Amount Collected</th>\n",
              "      <th>Unit Sold</th>\n",
              "      <th>Campaign (Email)</th>\n",
              "      <th>Campaign (Flyer)</th>\n",
              "      <th>Campaign (Phone)</th>\n",
              "      <th>Sales Contact 1</th>\n",
              "      <th>Sales Contact 2</th>\n",
              "      <th>Sales Contact 3</th>\n",
              "      <th>Sales Contact 4</th>\n",
              "      <th>Sales Contact 5</th>\n",
              "      <th>Number of Competition</th>\n",
              "    </tr>\n",
              "  </thead>\n",
              "  <tbody>\n",
              "    <tr>\n",
              "      <th>0</th>\n",
              "      <td>ID-987275</td>\n",
              "      <td>Medium Facility</td>\n",
              "      <td>2800</td>\n",
              "      <td>125</td>\n",
              "      <td>1003</td>\n",
              "      <td>16-01-2014</td>\n",
              "      <td>0</td>\n",
              "      <td>0</td>\n",
              "      <td>0.0</td>\n",
              "      <td>0.0</td>\n",
              "      <td>0.0</td>\n",
              "      <td>0.0</td>\n",
              "      <td>0.0</td>\n",
              "      <td>0.0</td>\n",
              "      <td>0.0</td>\n",
              "      <td>0.0</td>\n",
              "      <td>Low</td>\n",
              "    </tr>\n",
              "    <tr>\n",
              "      <th>1</th>\n",
              "      <td>ID-987275</td>\n",
              "      <td>Medium Facility</td>\n",
              "      <td>2800</td>\n",
              "      <td>125</td>\n",
              "      <td>1003</td>\n",
              "      <td>16-02-2014</td>\n",
              "      <td>3409460</td>\n",
              "      <td>24</td>\n",
              "      <td>0.0</td>\n",
              "      <td>0.0</td>\n",
              "      <td>0.0</td>\n",
              "      <td>0.0</td>\n",
              "      <td>0.0</td>\n",
              "      <td>0.0</td>\n",
              "      <td>0.0</td>\n",
              "      <td>322500.0</td>\n",
              "      <td>Low</td>\n",
              "    </tr>\n",
              "    <tr>\n",
              "      <th>2</th>\n",
              "      <td>ID-987275</td>\n",
              "      <td>Medium Facility</td>\n",
              "      <td>2800</td>\n",
              "      <td>125</td>\n",
              "      <td>1003</td>\n",
              "      <td>18-03-2014</td>\n",
              "      <td>10228384</td>\n",
              "      <td>75</td>\n",
              "      <td>0.0</td>\n",
              "      <td>0.0</td>\n",
              "      <td>0.0</td>\n",
              "      <td>0.0</td>\n",
              "      <td>0.0</td>\n",
              "      <td>0.0</td>\n",
              "      <td>0.0</td>\n",
              "      <td>0.0</td>\n",
              "      <td>Low</td>\n",
              "    </tr>\n",
              "    <tr>\n",
              "      <th>3</th>\n",
              "      <td>ID-987275</td>\n",
              "      <td>Medium Facility</td>\n",
              "      <td>2800</td>\n",
              "      <td>125</td>\n",
              "      <td>1003</td>\n",
              "      <td>18-04-2014</td>\n",
              "      <td>17047304</td>\n",
              "      <td>123</td>\n",
              "      <td>0.0</td>\n",
              "      <td>0.0</td>\n",
              "      <td>0.0</td>\n",
              "      <td>0.0</td>\n",
              "      <td>3547500.0</td>\n",
              "      <td>1290000.0</td>\n",
              "      <td>0.0</td>\n",
              "      <td>0.0</td>\n",
              "      <td>Low</td>\n",
              "    </tr>\n",
              "    <tr>\n",
              "      <th>4</th>\n",
              "      <td>ID-987275</td>\n",
              "      <td>Medium Facility</td>\n",
              "      <td>2800</td>\n",
              "      <td>125</td>\n",
              "      <td>1003</td>\n",
              "      <td>19-05-2014</td>\n",
              "      <td>23866224</td>\n",
              "      <td>171</td>\n",
              "      <td>0.0</td>\n",
              "      <td>0.0</td>\n",
              "      <td>0.0</td>\n",
              "      <td>0.0</td>\n",
              "      <td>0.0</td>\n",
              "      <td>0.0</td>\n",
              "      <td>0.0</td>\n",
              "      <td>0.0</td>\n",
              "      <td>Low</td>\n",
              "    </tr>\n",
              "  </tbody>\n",
              "</table>\n",
              "</div>"
            ],
            "text/plain": [
              "   Client ID      Client Type  Number of Customers  Montly Target  Zip Code  \\\n",
              "0  ID-987275  Medium Facility                 2800            125      1003   \n",
              "1  ID-987275  Medium Facility                 2800            125      1003   \n",
              "2  ID-987275  Medium Facility                 2800            125      1003   \n",
              "3  ID-987275  Medium Facility                 2800            125      1003   \n",
              "4  ID-987275  Medium Facility                 2800            125      1003   \n",
              "\n",
              "  Calendardate  Amount Collected  Unit Sold  Campaign (Email)  \\\n",
              "0   16-01-2014                 0          0               0.0   \n",
              "1   16-02-2014           3409460         24               0.0   \n",
              "2   18-03-2014          10228384         75               0.0   \n",
              "3   18-04-2014          17047304        123               0.0   \n",
              "4   19-05-2014          23866224        171               0.0   \n",
              "\n",
              "   Campaign (Flyer)  Campaign (Phone)  Sales Contact 1  Sales Contact 2  \\\n",
              "0               0.0               0.0              0.0              0.0   \n",
              "1               0.0               0.0              0.0              0.0   \n",
              "2               0.0               0.0              0.0              0.0   \n",
              "3               0.0               0.0              0.0        3547500.0   \n",
              "4               0.0               0.0              0.0              0.0   \n",
              "\n",
              "   Sales Contact 3  Sales Contact 4  Sales Contact 5 Number of Competition  \n",
              "0              0.0              0.0              0.0                   Low  \n",
              "1              0.0              0.0         322500.0                   Low  \n",
              "2              0.0              0.0              0.0                   Low  \n",
              "3        1290000.0              0.0              0.0                   Low  \n",
              "4              0.0              0.0              0.0                   Low  "
            ]
          },
          "execution_count": 7,
          "metadata": {},
          "output_type": "execute_result"
        }
      ],
      "source": [
        "data.head()"
      ]
    },
    {
      "cell_type": "markdown",
      "id": "6802e5b4",
      "metadata": {
        "id": "6802e5b4"
      },
      "source": [
        "### 3. Feature Additions and Engineering"
      ]
    },
    {
      "cell_type": "code",
      "execution_count": 8,
      "id": "d13a6f6d",
      "metadata": {
        "id": "d13a6f6d"
      },
      "outputs": [
        {
          "name": "stderr",
          "output_type": "stream",
          "text": [
            "C:\\Users\\callu\\AppData\\Local\\Temp\\ipykernel_11584\\470255435.py:2: UserWarning: Parsing dates in %d-%m-%Y format when dayfirst=False (the default) was specified. Pass `dayfirst=True` or specify a format to silence this warning.\n",
            "  data['Calendardate']=pd.to_datetime(data['Calendardate'])\n"
          ]
        }
      ],
      "source": [
        "## Creation of Additional Features \n",
        "data['Calendardate']=pd.to_datetime(data['Calendardate'])\n",
        "data['Calendar_Month']=data['Calendardate'].dt.month\n",
        "data['Calendar_Year']=data['Calendardate'].dt.year"
      ]
    },
    {
      "cell_type": "markdown",
      "id": "9c2c9bae",
      "metadata": {
        "id": "9c2c9bae"
      },
      "source": [
        "### 4. Exploratory Data Analysis and Statistical Analysis\n",
        "We can have a detailed exploration that can be added to this section, but since we only need to answer three questions:\n",
        "\n",
        "<b> 4.1 Exploring and Understanding basics data </b>\n",
        "\n",
        "1. Distribution of Data across different accounts\n",
        "2. Difference of Sales in Account Types (Using Categorical Mean)\n",
        "\n",
        "<b> 4.2 Statistical Analysis - Answering the Questions</b>\n",
        "1. Impact of Marketing Strategy on Sales (Using Correlation, Regression and Decision Tree)\n",
        "2. Impact of Competition on Sales\n",
        "3. How different types of client can have different strategies (Broken down Question 1 and Question 2 based on Account Type)"
      ]
    },
    {
      "cell_type": "markdown",
      "id": "84978c66",
      "metadata": {
        "id": "84978c66"
      },
      "source": [
        "### 4.2 Impact of Marketing Strategy on Sales "
      ]
    },
    {
      "cell_type": "code",
      "execution_count": 26,
      "id": "63a81c69",
      "metadata": {},
      "outputs": [
        {
          "name": "stdout",
          "output_type": "stream",
          "text": [
            "Client ID                        object\n",
            "Client Type                      object\n",
            "Number of Customers               int64\n",
            "Montly Target                     int64\n",
            "Zip Code                          int64\n",
            "Calendardate             datetime64[ns]\n",
            "Amount Collected                  int64\n",
            "Unit Sold                         int64\n",
            "Campaign (Email)                float64\n",
            "Campaign (Flyer)                float64\n",
            "Campaign (Phone)                float64\n",
            "Sales Contact 1                 float64\n",
            "Sales Contact 2                 float64\n",
            "Sales Contact 3                 float64\n",
            "Sales Contact 4                 float64\n",
            "Sales Contact 5                 float64\n",
            "Number of Competition           float64\n",
            "Calendar_Month                    int32\n",
            "Calendar_Year                     int32\n",
            "dtype: object\n"
          ]
        }
      ],
      "source": [
        "data = pd.DataFrame(data)\n",
        "print(data.dtypes)"
      ]
    },
    {
      "cell_type": "markdown",
      "id": "2a5d13cb",
      "metadata": {
        "id": "2a5d13cb"
      },
      "source": [
        "#### Understanding of distrubtions"
      ]
    },
    {
      "cell_type": "code",
      "execution_count": 9,
      "id": "XPS-IXlR9oJd",
      "metadata": {
        "colab": {
          "base_uri": "https://localhost:8080/"
        },
        "id": "XPS-IXlR9oJd",
        "outputId": "b121c800-2e6e-4917-a5a4-73090b6d6e84"
      },
      "outputs": [
        {
          "data": {
            "text/plain": [
              "Client Type\n",
              "Large Facility      0.459677\n",
              "Small Facility      0.282258\n",
              "Medium Facility     0.169355\n",
              "Private Facility    0.088710\n",
              "Name: proportion, dtype: float64"
            ]
          },
          "execution_count": 9,
          "metadata": {},
          "output_type": "execute_result"
        }
      ],
      "source": [
        "data['Client Type'].value_counts(normalize=True)"
      ]
    },
    {
      "cell_type": "code",
      "execution_count": 10,
      "id": "AT3FZvZ61Gl-",
      "metadata": {
        "colab": {
          "base_uri": "https://localhost:8080/",
          "height": 143
        },
        "id": "AT3FZvZ61Gl-",
        "outputId": "895f16f0-8c61-44df-8f04-d1759ce76771"
      },
      "outputs": [
        {
          "data": {
            "text/html": [
              "<div>\n",
              "<style scoped>\n",
              "    .dataframe tbody tr th:only-of-type {\n",
              "        vertical-align: middle;\n",
              "    }\n",
              "\n",
              "    .dataframe tbody tr th {\n",
              "        vertical-align: top;\n",
              "    }\n",
              "\n",
              "    .dataframe thead th {\n",
              "        text-align: right;\n",
              "    }\n",
              "</style>\n",
              "<table border=\"1\" class=\"dataframe\">\n",
              "  <thead>\n",
              "    <tr style=\"text-align: right;\">\n",
              "      <th>Client Type</th>\n",
              "      <th>Large Facility</th>\n",
              "      <th>Medium Facility</th>\n",
              "      <th>Private Facility</th>\n",
              "      <th>Small Facility</th>\n",
              "      <th>All</th>\n",
              "    </tr>\n",
              "    <tr>\n",
              "      <th>Number of Competition</th>\n",
              "      <th></th>\n",
              "      <th></th>\n",
              "      <th></th>\n",
              "      <th></th>\n",
              "      <th></th>\n",
              "    </tr>\n",
              "  </thead>\n",
              "  <tbody>\n",
              "    <tr>\n",
              "      <th>High</th>\n",
              "      <td>0.166667</td>\n",
              "      <td>0.166667</td>\n",
              "      <td>0.166667</td>\n",
              "      <td>0.166667</td>\n",
              "      <td>0.166667</td>\n",
              "    </tr>\n",
              "    <tr>\n",
              "      <th>Low</th>\n",
              "      <td>0.833333</td>\n",
              "      <td>0.833333</td>\n",
              "      <td>0.833333</td>\n",
              "      <td>0.833333</td>\n",
              "      <td>0.833333</td>\n",
              "    </tr>\n",
              "  </tbody>\n",
              "</table>\n",
              "</div>"
            ],
            "text/plain": [
              "Client Type            Large Facility   Medium Facility  Private Facility  \\\n",
              "Number of Competition                                                       \n",
              "High                          0.166667         0.166667          0.166667   \n",
              "Low                           0.833333         0.833333          0.833333   \n",
              "\n",
              "Client Type            Small Facility        All  \n",
              "Number of Competition                             \n",
              "High                          0.166667  0.166667  \n",
              "Low                           0.833333  0.833333  "
            ]
          },
          "execution_count": 10,
          "metadata": {},
          "output_type": "execute_result"
        }
      ],
      "source": [
        "pd.crosstab(data['Number of Competition'], data['Client Type'], margins=True, normalize='columns')"
      ]
    },
    {
      "cell_type": "code",
      "execution_count": 27,
      "id": "333ac76f",
      "metadata": {},
      "outputs": [],
      "source": [
        "# Select only numeric columns for aggregation, excluding 'Number of Competition'\n",
        "numeric_cols = data.select_dtypes(include='number').columns.tolist()\n",
        "numeric_cols.remove('Number of Competition')"
      ]
    },
    {
      "cell_type": "code",
      "execution_count": 32,
      "id": "GyT2hheVyday",
      "metadata": {
        "colab": {
          "base_uri": "https://localhost:8080/",
          "height": 222
        },
        "id": "GyT2hheVyday",
        "outputId": "1707473a-dffc-4c26-dc34-e8e60be3b9e2"
      },
      "outputs": [
        {
          "data": {
            "text/plain": [
              "<pandas.core.groupby.generic.DataFrameGroupBy object at 0x00000216D859DF90>"
            ]
          },
          "execution_count": 32,
          "metadata": {},
          "output_type": "execute_result"
        }
      ],
      "source": [
        "data.groupby('Number of Competition').mean()"
      ]
    },
    {
      "cell_type": "code",
      "execution_count": 16,
      "id": "8JWw-3oP7q0N",
      "metadata": {
        "colab": {
          "base_uri": "https://localhost:8080/",
          "height": 354
        },
        "id": "8JWw-3oP7q0N",
        "outputId": "9382718d-c938-4c7b-b949-bad96bed1596"
      },
      "outputs": [
        {
          "ename": "TypeError",
          "evalue": "agg function failed [how->mean,dtype->object]",
          "output_type": "error",
          "traceback": [
            "\u001b[1;31m---------------------------------------------------------------------------\u001b[0m",
            "\u001b[1;31mTypeError\u001b[0m                                 Traceback (most recent call last)",
            "File \u001b[1;32mc:\\Users\\callu\\repos\\lessons\\1. RAG\\.venv\\lib\\site-packages\\pandas\\core\\groupby\\groupby.py:1942\u001b[0m, in \u001b[0;36mGroupBy._agg_py_fallback\u001b[1;34m(self, how, values, ndim, alt)\u001b[0m\n\u001b[0;32m   1941\u001b[0m \u001b[38;5;28;01mtry\u001b[39;00m:\n\u001b[1;32m-> 1942\u001b[0m     res_values \u001b[38;5;241m=\u001b[39m \u001b[38;5;28;43mself\u001b[39;49m\u001b[38;5;241;43m.\u001b[39;49m\u001b[43m_grouper\u001b[49m\u001b[38;5;241;43m.\u001b[39;49m\u001b[43magg_series\u001b[49m\u001b[43m(\u001b[49m\u001b[43mser\u001b[49m\u001b[43m,\u001b[49m\u001b[43m \u001b[49m\u001b[43malt\u001b[49m\u001b[43m,\u001b[49m\u001b[43m \u001b[49m\u001b[43mpreserve_dtype\u001b[49m\u001b[38;5;241;43m=\u001b[39;49m\u001b[38;5;28;43;01mTrue\u001b[39;49;00m\u001b[43m)\u001b[49m\n\u001b[0;32m   1943\u001b[0m \u001b[38;5;28;01mexcept\u001b[39;00m \u001b[38;5;167;01mException\u001b[39;00m \u001b[38;5;28;01mas\u001b[39;00m err:\n",
            "File \u001b[1;32mc:\\Users\\callu\\repos\\lessons\\1. RAG\\.venv\\lib\\site-packages\\pandas\\core\\groupby\\ops.py:864\u001b[0m, in \u001b[0;36mBaseGrouper.agg_series\u001b[1;34m(self, obj, func, preserve_dtype)\u001b[0m\n\u001b[0;32m    862\u001b[0m     preserve_dtype \u001b[38;5;241m=\u001b[39m \u001b[38;5;28;01mTrue\u001b[39;00m\n\u001b[1;32m--> 864\u001b[0m result \u001b[38;5;241m=\u001b[39m \u001b[38;5;28;43mself\u001b[39;49m\u001b[38;5;241;43m.\u001b[39;49m\u001b[43m_aggregate_series_pure_python\u001b[49m\u001b[43m(\u001b[49m\u001b[43mobj\u001b[49m\u001b[43m,\u001b[49m\u001b[43m \u001b[49m\u001b[43mfunc\u001b[49m\u001b[43m)\u001b[49m\n\u001b[0;32m    866\u001b[0m npvalues \u001b[38;5;241m=\u001b[39m lib\u001b[38;5;241m.\u001b[39mmaybe_convert_objects(result, try_float\u001b[38;5;241m=\u001b[39m\u001b[38;5;28;01mFalse\u001b[39;00m)\n",
            "File \u001b[1;32mc:\\Users\\callu\\repos\\lessons\\1. RAG\\.venv\\lib\\site-packages\\pandas\\core\\groupby\\ops.py:885\u001b[0m, in \u001b[0;36mBaseGrouper._aggregate_series_pure_python\u001b[1;34m(self, obj, func)\u001b[0m\n\u001b[0;32m    884\u001b[0m \u001b[38;5;28;01mfor\u001b[39;00m i, group \u001b[38;5;129;01min\u001b[39;00m \u001b[38;5;28menumerate\u001b[39m(splitter):\n\u001b[1;32m--> 885\u001b[0m     res \u001b[38;5;241m=\u001b[39m \u001b[43mfunc\u001b[49m\u001b[43m(\u001b[49m\u001b[43mgroup\u001b[49m\u001b[43m)\u001b[49m\n\u001b[0;32m    886\u001b[0m     res \u001b[38;5;241m=\u001b[39m extract_result(res)\n",
            "File \u001b[1;32mc:\\Users\\callu\\repos\\lessons\\1. RAG\\.venv\\lib\\site-packages\\pandas\\core\\groupby\\groupby.py:2454\u001b[0m, in \u001b[0;36mGroupBy.mean.<locals>.<lambda>\u001b[1;34m(x)\u001b[0m\n\u001b[0;32m   2451\u001b[0m \u001b[38;5;28;01melse\u001b[39;00m:\n\u001b[0;32m   2452\u001b[0m     result \u001b[38;5;241m=\u001b[39m \u001b[38;5;28mself\u001b[39m\u001b[38;5;241m.\u001b[39m_cython_agg_general(\n\u001b[0;32m   2453\u001b[0m         \u001b[38;5;124m\"\u001b[39m\u001b[38;5;124mmean\u001b[39m\u001b[38;5;124m\"\u001b[39m,\n\u001b[1;32m-> 2454\u001b[0m         alt\u001b[38;5;241m=\u001b[39m\u001b[38;5;28;01mlambda\u001b[39;00m x: \u001b[43mSeries\u001b[49m\u001b[43m(\u001b[49m\u001b[43mx\u001b[49m\u001b[43m,\u001b[49m\u001b[43m \u001b[49m\u001b[43mcopy\u001b[49m\u001b[38;5;241;43m=\u001b[39;49m\u001b[38;5;28;43;01mFalse\u001b[39;49;00m\u001b[43m)\u001b[49m\u001b[38;5;241;43m.\u001b[39;49m\u001b[43mmean\u001b[49m\u001b[43m(\u001b[49m\u001b[43mnumeric_only\u001b[49m\u001b[38;5;241;43m=\u001b[39;49m\u001b[43mnumeric_only\u001b[49m\u001b[43m)\u001b[49m,\n\u001b[0;32m   2455\u001b[0m         numeric_only\u001b[38;5;241m=\u001b[39mnumeric_only,\n\u001b[0;32m   2456\u001b[0m     )\n\u001b[0;32m   2457\u001b[0m     \u001b[38;5;28;01mreturn\u001b[39;00m result\u001b[38;5;241m.\u001b[39m__finalize__(\u001b[38;5;28mself\u001b[39m\u001b[38;5;241m.\u001b[39mobj, method\u001b[38;5;241m=\u001b[39m\u001b[38;5;124m\"\u001b[39m\u001b[38;5;124mgroupby\u001b[39m\u001b[38;5;124m\"\u001b[39m)\n",
            "File \u001b[1;32mc:\\Users\\callu\\repos\\lessons\\1. RAG\\.venv\\lib\\site-packages\\pandas\\core\\series.py:6549\u001b[0m, in \u001b[0;36mSeries.mean\u001b[1;34m(self, axis, skipna, numeric_only, **kwargs)\u001b[0m\n\u001b[0;32m   6541\u001b[0m \u001b[38;5;129m@doc\u001b[39m(make_doc(\u001b[38;5;124m\"\u001b[39m\u001b[38;5;124mmean\u001b[39m\u001b[38;5;124m\"\u001b[39m, ndim\u001b[38;5;241m=\u001b[39m\u001b[38;5;241m1\u001b[39m))\n\u001b[0;32m   6542\u001b[0m \u001b[38;5;28;01mdef\u001b[39;00m \u001b[38;5;21mmean\u001b[39m(\n\u001b[0;32m   6543\u001b[0m     \u001b[38;5;28mself\u001b[39m,\n\u001b[1;32m   (...)\u001b[0m\n\u001b[0;32m   6547\u001b[0m     \u001b[38;5;241m*\u001b[39m\u001b[38;5;241m*\u001b[39mkwargs,\n\u001b[0;32m   6548\u001b[0m ):\n\u001b[1;32m-> 6549\u001b[0m     \u001b[38;5;28;01mreturn\u001b[39;00m NDFrame\u001b[38;5;241m.\u001b[39mmean(\u001b[38;5;28mself\u001b[39m, axis, skipna, numeric_only, \u001b[38;5;241m*\u001b[39m\u001b[38;5;241m*\u001b[39mkwargs)\n",
            "File \u001b[1;32mc:\\Users\\callu\\repos\\lessons\\1. RAG\\.venv\\lib\\site-packages\\pandas\\core\\generic.py:12420\u001b[0m, in \u001b[0;36mNDFrame.mean\u001b[1;34m(self, axis, skipna, numeric_only, **kwargs)\u001b[0m\n\u001b[0;32m  12413\u001b[0m \u001b[38;5;28;01mdef\u001b[39;00m \u001b[38;5;21mmean\u001b[39m(\n\u001b[0;32m  12414\u001b[0m     \u001b[38;5;28mself\u001b[39m,\n\u001b[0;32m  12415\u001b[0m     axis: Axis \u001b[38;5;241m|\u001b[39m \u001b[38;5;28;01mNone\u001b[39;00m \u001b[38;5;241m=\u001b[39m \u001b[38;5;241m0\u001b[39m,\n\u001b[1;32m   (...)\u001b[0m\n\u001b[0;32m  12418\u001b[0m     \u001b[38;5;241m*\u001b[39m\u001b[38;5;241m*\u001b[39mkwargs,\n\u001b[0;32m  12419\u001b[0m ) \u001b[38;5;241m-\u001b[39m\u001b[38;5;241m>\u001b[39m Series \u001b[38;5;241m|\u001b[39m \u001b[38;5;28mfloat\u001b[39m:\n\u001b[1;32m> 12420\u001b[0m     \u001b[38;5;28;01mreturn\u001b[39;00m \u001b[38;5;28mself\u001b[39m\u001b[38;5;241m.\u001b[39m_stat_function(\n\u001b[0;32m  12421\u001b[0m         \u001b[38;5;124m\"\u001b[39m\u001b[38;5;124mmean\u001b[39m\u001b[38;5;124m\"\u001b[39m, nanops\u001b[38;5;241m.\u001b[39mnanmean, axis, skipna, numeric_only, \u001b[38;5;241m*\u001b[39m\u001b[38;5;241m*\u001b[39mkwargs\n\u001b[0;32m  12422\u001b[0m     )\n",
            "File \u001b[1;32mc:\\Users\\callu\\repos\\lessons\\1. RAG\\.venv\\lib\\site-packages\\pandas\\core\\generic.py:12377\u001b[0m, in \u001b[0;36mNDFrame._stat_function\u001b[1;34m(self, name, func, axis, skipna, numeric_only, **kwargs)\u001b[0m\n\u001b[0;32m  12375\u001b[0m validate_bool_kwarg(skipna, \u001b[38;5;124m\"\u001b[39m\u001b[38;5;124mskipna\u001b[39m\u001b[38;5;124m\"\u001b[39m, none_allowed\u001b[38;5;241m=\u001b[39m\u001b[38;5;28;01mFalse\u001b[39;00m)\n\u001b[1;32m> 12377\u001b[0m \u001b[38;5;28;01mreturn\u001b[39;00m \u001b[38;5;28;43mself\u001b[39;49m\u001b[38;5;241;43m.\u001b[39;49m\u001b[43m_reduce\u001b[49m\u001b[43m(\u001b[49m\n\u001b[0;32m  12378\u001b[0m \u001b[43m    \u001b[49m\u001b[43mfunc\u001b[49m\u001b[43m,\u001b[49m\u001b[43m \u001b[49m\u001b[43mname\u001b[49m\u001b[38;5;241;43m=\u001b[39;49m\u001b[43mname\u001b[49m\u001b[43m,\u001b[49m\u001b[43m \u001b[49m\u001b[43maxis\u001b[49m\u001b[38;5;241;43m=\u001b[39;49m\u001b[43maxis\u001b[49m\u001b[43m,\u001b[49m\u001b[43m \u001b[49m\u001b[43mskipna\u001b[49m\u001b[38;5;241;43m=\u001b[39;49m\u001b[43mskipna\u001b[49m\u001b[43m,\u001b[49m\u001b[43m \u001b[49m\u001b[43mnumeric_only\u001b[49m\u001b[38;5;241;43m=\u001b[39;49m\u001b[43mnumeric_only\u001b[49m\n\u001b[0;32m  12379\u001b[0m \u001b[43m\u001b[49m\u001b[43m)\u001b[49m\n",
            "File \u001b[1;32mc:\\Users\\callu\\repos\\lessons\\1. RAG\\.venv\\lib\\site-packages\\pandas\\core\\series.py:6457\u001b[0m, in \u001b[0;36mSeries._reduce\u001b[1;34m(self, op, name, axis, skipna, numeric_only, filter_type, **kwds)\u001b[0m\n\u001b[0;32m   6453\u001b[0m     \u001b[38;5;28;01mraise\u001b[39;00m \u001b[38;5;167;01mTypeError\u001b[39;00m(\n\u001b[0;32m   6454\u001b[0m         \u001b[38;5;124mf\u001b[39m\u001b[38;5;124m\"\u001b[39m\u001b[38;5;124mSeries.\u001b[39m\u001b[38;5;132;01m{\u001b[39;00mname\u001b[38;5;132;01m}\u001b[39;00m\u001b[38;5;124m does not allow \u001b[39m\u001b[38;5;132;01m{\u001b[39;00mkwd_name\u001b[38;5;132;01m}\u001b[39;00m\u001b[38;5;124m=\u001b[39m\u001b[38;5;132;01m{\u001b[39;00mnumeric_only\u001b[38;5;132;01m}\u001b[39;00m\u001b[38;5;124m \u001b[39m\u001b[38;5;124m\"\u001b[39m\n\u001b[0;32m   6455\u001b[0m         \u001b[38;5;124m\"\u001b[39m\u001b[38;5;124mwith non-numeric dtypes.\u001b[39m\u001b[38;5;124m\"\u001b[39m\n\u001b[0;32m   6456\u001b[0m     )\n\u001b[1;32m-> 6457\u001b[0m \u001b[38;5;28;01mreturn\u001b[39;00m op(delegate, skipna\u001b[38;5;241m=\u001b[39mskipna, \u001b[38;5;241m*\u001b[39m\u001b[38;5;241m*\u001b[39mkwds)\n",
            "File \u001b[1;32mc:\\Users\\callu\\repos\\lessons\\1. RAG\\.venv\\lib\\site-packages\\pandas\\core\\nanops.py:147\u001b[0m, in \u001b[0;36mbottleneck_switch.__call__.<locals>.f\u001b[1;34m(values, axis, skipna, **kwds)\u001b[0m\n\u001b[0;32m    146\u001b[0m \u001b[38;5;28;01melse\u001b[39;00m:\n\u001b[1;32m--> 147\u001b[0m     result \u001b[38;5;241m=\u001b[39m alt(values, axis\u001b[38;5;241m=\u001b[39maxis, skipna\u001b[38;5;241m=\u001b[39mskipna, \u001b[38;5;241m*\u001b[39m\u001b[38;5;241m*\u001b[39mkwds)\n\u001b[0;32m    149\u001b[0m \u001b[38;5;28;01mreturn\u001b[39;00m result\n",
            "File \u001b[1;32mc:\\Users\\callu\\repos\\lessons\\1. RAG\\.venv\\lib\\site-packages\\pandas\\core\\nanops.py:404\u001b[0m, in \u001b[0;36m_datetimelike_compat.<locals>.new_func\u001b[1;34m(values, axis, skipna, mask, **kwargs)\u001b[0m\n\u001b[0;32m    402\u001b[0m     mask \u001b[38;5;241m=\u001b[39m isna(values)\n\u001b[1;32m--> 404\u001b[0m result \u001b[38;5;241m=\u001b[39m func(values, axis\u001b[38;5;241m=\u001b[39maxis, skipna\u001b[38;5;241m=\u001b[39mskipna, mask\u001b[38;5;241m=\u001b[39mmask, \u001b[38;5;241m*\u001b[39m\u001b[38;5;241m*\u001b[39mkwargs)\n\u001b[0;32m    406\u001b[0m \u001b[38;5;28;01mif\u001b[39;00m datetimelike:\n",
            "File \u001b[1;32mc:\\Users\\callu\\repos\\lessons\\1. RAG\\.venv\\lib\\site-packages\\pandas\\core\\nanops.py:720\u001b[0m, in \u001b[0;36mnanmean\u001b[1;34m(values, axis, skipna, mask)\u001b[0m\n\u001b[0;32m    719\u001b[0m the_sum \u001b[38;5;241m=\u001b[39m values\u001b[38;5;241m.\u001b[39msum(axis, dtype\u001b[38;5;241m=\u001b[39mdtype_sum)\n\u001b[1;32m--> 720\u001b[0m the_sum \u001b[38;5;241m=\u001b[39m \u001b[43m_ensure_numeric\u001b[49m\u001b[43m(\u001b[49m\u001b[43mthe_sum\u001b[49m\u001b[43m)\u001b[49m\n\u001b[0;32m    722\u001b[0m \u001b[38;5;28;01mif\u001b[39;00m axis \u001b[38;5;129;01mis\u001b[39;00m \u001b[38;5;129;01mnot\u001b[39;00m \u001b[38;5;28;01mNone\u001b[39;00m \u001b[38;5;129;01mand\u001b[39;00m \u001b[38;5;28mgetattr\u001b[39m(the_sum, \u001b[38;5;124m\"\u001b[39m\u001b[38;5;124mndim\u001b[39m\u001b[38;5;124m\"\u001b[39m, \u001b[38;5;28;01mFalse\u001b[39;00m):\n",
            "File \u001b[1;32mc:\\Users\\callu\\repos\\lessons\\1. RAG\\.venv\\lib\\site-packages\\pandas\\core\\nanops.py:1701\u001b[0m, in \u001b[0;36m_ensure_numeric\u001b[1;34m(x)\u001b[0m\n\u001b[0;32m   1699\u001b[0m \u001b[38;5;28;01mif\u001b[39;00m \u001b[38;5;28misinstance\u001b[39m(x, \u001b[38;5;28mstr\u001b[39m):\n\u001b[0;32m   1700\u001b[0m     \u001b[38;5;66;03m# GH#44008, GH#36703 avoid casting e.g. strings to numeric\u001b[39;00m\n\u001b[1;32m-> 1701\u001b[0m     \u001b[38;5;28;01mraise\u001b[39;00m \u001b[38;5;167;01mTypeError\u001b[39;00m(\u001b[38;5;124mf\u001b[39m\u001b[38;5;124m\"\u001b[39m\u001b[38;5;124mCould not convert string \u001b[39m\u001b[38;5;124m'\u001b[39m\u001b[38;5;132;01m{\u001b[39;00mx\u001b[38;5;132;01m}\u001b[39;00m\u001b[38;5;124m'\u001b[39m\u001b[38;5;124m to numeric\u001b[39m\u001b[38;5;124m\"\u001b[39m)\n\u001b[0;32m   1702\u001b[0m \u001b[38;5;28;01mtry\u001b[39;00m:\n",
            "\u001b[1;31mTypeError\u001b[0m: Could not convert string 'ID-987278ID-987278ID-987278ID-987278ID-987278ID-987278ID-987278ID-987278ID-987278ID-987278ID-987278ID-987278ID-987278ID-987278ID-987278ID-987278ID-987278ID-987278ID-987278ID-987278ID-987278ID-987278ID-987278ID-987278ID-987279ID-987279ID-987279ID-987279ID-987279ID-987279ID-987279ID-987279ID-987279ID-987279ID-987279ID-987279ID-987279ID-987279ID-987279ID-987279ID-987279ID-987279ID-987279ID-987279ID-987279ID-987279ID-987279ID-987279ID-987281ID-987281ID-987281ID-987281ID-987281ID-987281ID-987281ID-987281ID-987281ID-987281ID-987281ID-987281ID-987281ID-987281ID-987281ID-987281ID-987281ID-987281ID-987281ID-987281ID-987281ID-987281ID-987281ID-987281ID-987283ID-987283ID-987283ID-987283ID-987283ID-987283ID-987283ID-987283ID-987283ID-987283ID-987283ID-987283ID-987283ID-987283ID-987283ID-987283ID-987283ID-987283ID-987283ID-987283ID-987283ID-987283ID-987283ID-987283ID-987288ID-987288ID-987288ID-987288ID-987288ID-987288ID-987288ID-987288ID-987288ID-987288ID-987288ID-987288ID-987288ID-987288ID-987288ID-987288ID-987288ID-987288ID-987288ID-987288ID-987288ID-987288ID-987288ID-987288ID-987289ID-987289ID-987289ID-987289ID-987289ID-987289ID-987289ID-987289ID-987289ID-987289ID-987289ID-987289ID-987289ID-987289ID-987289ID-987289ID-987289ID-987289ID-987289ID-987289ID-987289ID-987289ID-987289ID-987289ID-987290ID-987290ID-987290ID-987290ID-987290ID-987290ID-987290ID-987290ID-987290ID-987290ID-987290ID-987290ID-987290ID-987290ID-987290ID-987290ID-987290ID-987290ID-987290ID-987290ID-987290ID-987290ID-987290ID-987290ID-987292ID-987292ID-987292ID-987292ID-987292ID-987292ID-987292ID-987292ID-987292ID-987292ID-987292ID-987292ID-987292ID-987292ID-987292ID-987292ID-987292ID-987292ID-987292ID-987292ID-987292ID-987292ID-987292ID-987292ID-987295ID-987295ID-987295ID-987295ID-987295ID-987295ID-987295ID-987295ID-987295ID-987295ID-987295ID-987295ID-987295ID-987295ID-987295ID-987295ID-987295ID-987295ID-987295ID-987295ID-987295ID-987295ID-987295ID-987295ID-987298ID-987298ID-987298ID-987298ID-987298ID-987298ID-987298ID-987298ID-987298ID-987298ID-987298ID-987298ID-987298ID-987298ID-987298ID-987298ID-987298ID-987298ID-987298ID-987298ID-987298ID-987298ID-987298ID-987298ID-987299ID-987299ID-987299ID-987299ID-987299ID-987299ID-987299ID-987299ID-987299ID-987299ID-987299ID-987299ID-987299ID-987299ID-987299ID-987299ID-987299ID-987299ID-987299ID-987299ID-987299ID-987299ID-987299ID-987299ID-987300ID-987300ID-987300ID-987300ID-987300ID-987300ID-987300ID-987300ID-987300ID-987300ID-987300ID-987300ID-987300ID-987300ID-987300ID-987300ID-987300ID-987300ID-987300ID-987300ID-987300ID-987300ID-987300ID-987300ID-987302ID-987302ID-987302ID-987302ID-987302ID-987302ID-987302ID-987302ID-987302ID-987302ID-987302ID-987302ID-987302ID-987302ID-987302ID-987302ID-987302ID-987302ID-987302ID-987302ID-987302ID-987302ID-987302ID-987302ID-987306ID-987306ID-987306ID-987306ID-987306ID-987306ID-987306ID-987306ID-987306ID-987306ID-987306ID-987306ID-987306ID-987306ID-987306ID-987306ID-987306ID-987306ID-987306ID-987306ID-987306ID-987306ID-987306ID-987306ID-987307ID-987307ID-987307ID-987307ID-987307ID-987307ID-987307ID-987307ID-987307ID-987307ID-987307ID-987307ID-987307ID-987307ID-987307ID-987307ID-987307ID-987307ID-987307ID-987307ID-987307ID-987307ID-987307ID-987307ID-987308ID-987308ID-987308ID-987308ID-987308ID-987308ID-987308ID-987308ID-987308ID-987308ID-987308ID-987308ID-987308ID-987308ID-987308ID-987308ID-987308ID-987308ID-987308ID-987308ID-987308ID-987308ID-987308ID-987308ID-987309ID-987309ID-987309ID-987309ID-987309ID-987309ID-987309ID-987309ID-987309ID-987309ID-987309ID-987309ID-987309ID-987309ID-987309ID-987309ID-987309ID-987309ID-987309ID-987309ID-987309ID-987309ID-987309ID-987309ID-987310ID-987310ID-987310ID-987310ID-987310ID-987310ID-987310ID-987310ID-987310ID-987310ID-987310ID-987310ID-987310ID-987310ID-987310ID-987310ID-987310ID-987310ID-987310ID-987310ID-987310ID-987310ID-987310ID-987310ID-987312ID-987312ID-987312ID-987312ID-987312ID-987312ID-987312ID-987312ID-987312ID-987312ID-987312ID-987312ID-987312ID-987312ID-987312ID-987312ID-987312ID-987312ID-987312ID-987312ID-987312ID-987312ID-987312ID-987312ID-987316ID-987316ID-987316ID-987316ID-987316ID-987316ID-987316ID-987316ID-987316ID-987316ID-987316ID-987316ID-987316ID-987316ID-987316ID-987316ID-987316ID-987316ID-987316ID-987316ID-987316ID-987316ID-987316ID-987316ID-987318ID-987318ID-987318ID-987318ID-987318ID-987318ID-987318ID-987318ID-987318ID-987318ID-987318ID-987318ID-987318ID-987318ID-987318ID-987318ID-987318ID-987318ID-987318ID-987318ID-987318ID-987318ID-987318ID-987318ID-987325ID-987325ID-987325ID-987325ID-987325ID-987325ID-987325ID-987325ID-987325ID-987325ID-987325ID-987325ID-987325ID-987325ID-987325ID-987325ID-987325ID-987325ID-987325ID-987325ID-987325ID-987325ID-987325ID-987325ID-987327ID-987327ID-987327ID-987327ID-987327ID-987327ID-987327ID-987327ID-987327ID-987327ID-987327ID-987327ID-987327ID-987327ID-987327ID-987327ID-987327ID-987327ID-987327ID-987327ID-987327ID-987327ID-987327ID-987327ID-987332ID-987332ID-987332ID-987332ID-987332ID-987332ID-987332ID-987332ID-987332ID-987332ID-987332ID-987332ID-987332ID-987332ID-987332ID-987332ID-987332ID-987332ID-987332ID-987332ID-987332ID-987332ID-987332ID-987332ID-987354ID-987354ID-987354ID-987354ID-987354ID-987354ID-987354ID-987354ID-987354ID-987354ID-987354ID-987354ID-987354ID-987354ID-987354ID-987354ID-987354ID-987354ID-987354ID-987354ID-987354ID-987354ID-987354ID-987354ID-987358ID-987358ID-987358ID-987358ID-987358ID-987358ID-987358ID-987358ID-987358ID-987358ID-987358ID-987358ID-987358ID-987358ID-987358ID-987358ID-987358ID-987358ID-987358ID-987358ID-987358ID-987358ID-987358ID-987358ID-987361ID-987361ID-987361ID-987361ID-987361ID-987361ID-987361ID-987361ID-987361ID-987361ID-987361ID-987361ID-987361ID-987361ID-987361ID-987361ID-987361ID-987361ID-987361ID-987361ID-987361ID-987361ID-987361ID-987361ID-987365ID-987365ID-987365ID-987365ID-987365ID-987365ID-987365ID-987365ID-987365ID-987365ID-987365ID-987365ID-987365ID-987365ID-987365ID-987365ID-987365ID-987365ID-987365ID-987365ID-987365ID-987365ID-987365ID-987365ID-987369ID-987369ID-987369ID-987369ID-987369ID-987369ID-987369ID-987369ID-987369ID-987369ID-987369ID-987369ID-987369ID-987369ID-987369ID-987369ID-987369ID-987369ID-987369ID-987369ID-987369ID-987369ID-987369ID-987369ID-987373ID-987373ID-987373ID-987373ID-987373ID-987373ID-987373ID-987373ID-987373ID-987373ID-987373ID-987373ID-987373ID-987373ID-987373ID-987373ID-987373ID-987373ID-987373ID-987373ID-987373ID-987373ID-987373ID-987373ID-987376ID-987376ID-987376ID-987376ID-987376ID-987376ID-987376ID-987376ID-987376ID-987376ID-987376ID-987376ID-987376ID-987376ID-987376ID-987376ID-987376ID-987376ID-987376ID-987376ID-987376ID-987376ID-987376ID-987376ID-987384ID-987384ID-987384ID-987384ID-987384ID-987384ID-987384ID-987384ID-987384ID-987384ID-987384ID-987384ID-987384ID-987384ID-987384ID-987384ID-987384ID-987384ID-987384ID-987384ID-987384ID-987384ID-987384ID-987384ID-987403ID-987403ID-987403ID-987403ID-987403ID-987403ID-987403ID-987403ID-987403ID-987403ID-987403ID-987403ID-987403ID-987403ID-987403ID-987403ID-987403ID-987403ID-987403ID-987403ID-987403ID-987403ID-987403ID-987403ID-987407ID-987407ID-987407ID-987407ID-987407ID-987407ID-987407ID-987407ID-987407ID-987407ID-987407ID-987407ID-987407ID-987407ID-987407ID-987407ID-987407ID-987407ID-987407ID-987407ID-987407ID-987407ID-987407ID-987407ID-987408ID-987408ID-987408ID-987408ID-987408ID-987408ID-987408ID-987408ID-987408ID-987408ID-987408ID-987408ID-987408ID-987408ID-987408ID-987408ID-987408ID-987408ID-987408ID-987408ID-987408ID-987408ID-987408ID-987408ID-987409ID-987409ID-987409ID-987409ID-987409ID-987409ID-987409ID-987409ID-987409ID-987409ID-987409ID-987409ID-987409ID-987409ID-987409ID-987409ID-987409ID-987409ID-987409ID-987409ID-987409ID-987409ID-987409ID-987409ID-987410ID-987410ID-987410ID-987410ID-987410ID-987410ID-987410ID-987410ID-987410ID-987410ID-987410ID-987410ID-987410ID-987410ID-987410ID-987410ID-987410ID-987410ID-987410ID-987410ID-987410ID-987410ID-987410ID-987410ID-987412ID-987412ID-987412ID-987412ID-987412ID-987412ID-987412ID-987412ID-987412ID-987412ID-987412ID-987412ID-987412ID-987412ID-987412ID-987412ID-987412ID-987412ID-987412ID-987412ID-987412ID-987412ID-987412ID-987412ID-987414ID-987414ID-987414ID-987414ID-987414ID-987414ID-987414ID-987414ID-987414ID-987414ID-987414ID-987414ID-987414ID-987414ID-987414ID-987414ID-987414ID-987414ID-987414ID-987414ID-987414ID-987414ID-987414ID-987414ID-987417ID-987417ID-987417ID-987417ID-987417ID-987417ID-987417ID-987417ID-987417ID-987417ID-987417ID-987417ID-987417ID-987417ID-987417ID-987417ID-987417ID-987417ID-987417ID-987417ID-987417ID-987417ID-987417ID-987417ID-987419ID-987419ID-987419ID-987419ID-987419ID-987419ID-987419ID-987419ID-987419ID-987419ID-987419ID-987419ID-987419ID-987419ID-987419ID-987419ID-987419ID-987419ID-987419ID-987419ID-987419ID-987419ID-987419ID-987419ID-987420ID-987420ID-987420ID-987420ID-987420ID-987420ID-987420ID-987420ID-987420ID-987420ID-987420ID-987420ID-987420ID-987420ID-987420ID-987420ID-987420ID-987420ID-987420ID-987420ID-987420ID-987420ID-987420ID-987420ID-987423ID-987423ID-987423ID-987423ID-987423ID-987423ID-987423ID-987423ID-987423ID-987423ID-987423ID-987423ID-987423ID-987423ID-987423ID-987423ID-987423ID-987423ID-987423ID-987423ID-987423ID-987423ID-987423ID-987423ID-987430ID-987430ID-987430ID-987430ID-987430ID-987430ID-987430ID-987430ID-987430ID-987430ID-987430ID-987430ID-987430ID-987430ID-987430ID-987430ID-987430ID-987430ID-987430ID-987430ID-987430ID-987430ID-987430ID-987430ID-987436ID-987436ID-987436ID-987436ID-987436ID-987436ID-987436ID-987436ID-987436ID-987436ID-987436ID-987436ID-987436ID-987436ID-987436ID-987436ID-987436ID-987436ID-987436ID-987436ID-987436ID-987436ID-987436ID-987436ID-987438ID-987438ID-987438ID-987438ID-987438ID-987438ID-987438ID-987438ID-987438ID-987438ID-987438ID-987438ID-987438ID-987438ID-987438ID-987438ID-987438ID-987438ID-987438ID-987438ID-987438ID-987438ID-987438ID-987438ID-987441ID-987441ID-987441ID-987441ID-987441ID-987441ID-987441ID-987441ID-987441ID-987441ID-987441ID-987441ID-987441ID-987441ID-987441ID-987441ID-987441ID-987441ID-987441ID-987441ID-987441ID-987441ID-987441ID-987441ID-987443ID-987443ID-987443ID-987443ID-987443ID-987443ID-987443ID-987443ID-987443ID-987443ID-987443ID-987443ID-987443ID-987443ID-987443ID-987443ID-987443ID-987443ID-987443ID-987443ID-987443ID-987443ID-987443ID-987443ID-987446ID-987446ID-987446ID-987446ID-987446ID-987446ID-987446ID-987446ID-987446ID-987446ID-987446ID-987446ID-987446ID-987446ID-987446ID-987446ID-987446ID-987446ID-987446ID-987446ID-987446ID-987446ID-987446ID-987446ID-987447ID-987447ID-987447ID-987447ID-987447ID-987447ID-987447ID-987447ID-987447ID-987447ID-987447ID-987447ID-987447ID-987447ID-987447ID-987447ID-987447ID-987447ID-987447ID-987447ID-987447ID-987447ID-987447ID-987447ID-987450ID-987450ID-987450ID-987450ID-987450ID-987450ID-987450ID-987450ID-987450ID-987450ID-987450ID-987450ID-987450ID-987450ID-987450ID-987450ID-987450ID-987450ID-987450ID-987450ID-987450ID-987450ID-987450ID-987450ID-987452ID-987452ID-987452ID-987452ID-987452ID-987452ID-987452ID-987452ID-987452ID-987452ID-987452ID-987452ID-987452ID-987452ID-987452ID-987452ID-987452ID-987452ID-987452ID-987452ID-987452ID-987452ID-987452ID-987452ID-987453ID-987453ID-987453ID-987453ID-987453ID-987453ID-987453ID-987453ID-987453ID-987453ID-987453ID-987453ID-987453ID-987453ID-987453ID-987453ID-987453ID-987453ID-987453ID-987453ID-987453ID-987453ID-987453ID-987453ID-987454ID-987454ID-987454ID-987454ID-987454ID-987454ID-987454ID-987454ID-987454ID-987454ID-987454ID-987454ID-987454ID-987454ID-987454ID-987454ID-987454ID-987454ID-987454ID-987454ID-987454ID-987454ID-987454ID-987454ID-987458ID-987458ID-987458ID-987458ID-987458ID-987458ID-987458ID-987458ID-987458ID-987458ID-987458ID-987458ID-987458ID-987458ID-987458ID-987458ID-987458ID-987458ID-987458ID-987458ID-987458ID-987458ID-987458ID-987458ID-987459ID-987459ID-987459ID-987459ID-987459ID-987459ID-987459ID-987459ID-987459ID-987459ID-987459ID-987459ID-987459ID-987459ID-987459ID-987459ID-987459ID-987459ID-987459ID-987459ID-987459ID-987459ID-987459ID-987459ID-987462ID-987462ID-987462ID-987462ID-987462ID-987462ID-987462ID-987462ID-987462ID-987462ID-987462ID-987462ID-987462ID-987462ID-987462ID-987462ID-987462ID-987462ID-987462ID-987462ID-987462ID-987462ID-987462ID-987462' to numeric",
            "\nThe above exception was the direct cause of the following exception:\n",
            "\u001b[1;31mTypeError\u001b[0m                                 Traceback (most recent call last)",
            "Cell \u001b[1;32mIn[16], line 1\u001b[0m\n\u001b[1;32m----> 1\u001b[0m \u001b[43mdata\u001b[49m\u001b[38;5;241;43m.\u001b[39;49m\u001b[43mgroupby\u001b[49m\u001b[43m(\u001b[49m\u001b[38;5;124;43m'\u001b[39;49m\u001b[38;5;124;43mClient Type\u001b[39;49m\u001b[38;5;124;43m'\u001b[39;49m\u001b[43m)\u001b[49m\u001b[38;5;241;43m.\u001b[39;49m\u001b[43mmean\u001b[49m\u001b[43m(\u001b[49m\u001b[43m)\u001b[49m\n",
            "File \u001b[1;32mc:\\Users\\callu\\repos\\lessons\\1. RAG\\.venv\\lib\\site-packages\\pandas\\core\\groupby\\groupby.py:2452\u001b[0m, in \u001b[0;36mGroupBy.mean\u001b[1;34m(self, numeric_only, engine, engine_kwargs)\u001b[0m\n\u001b[0;32m   2445\u001b[0m     \u001b[38;5;28;01mreturn\u001b[39;00m \u001b[38;5;28mself\u001b[39m\u001b[38;5;241m.\u001b[39m_numba_agg_general(\n\u001b[0;32m   2446\u001b[0m         grouped_mean,\n\u001b[0;32m   2447\u001b[0m         executor\u001b[38;5;241m.\u001b[39mfloat_dtype_mapping,\n\u001b[0;32m   2448\u001b[0m         engine_kwargs,\n\u001b[0;32m   2449\u001b[0m         min_periods\u001b[38;5;241m=\u001b[39m\u001b[38;5;241m0\u001b[39m,\n\u001b[0;32m   2450\u001b[0m     )\n\u001b[0;32m   2451\u001b[0m \u001b[38;5;28;01melse\u001b[39;00m:\n\u001b[1;32m-> 2452\u001b[0m     result \u001b[38;5;241m=\u001b[39m \u001b[38;5;28;43mself\u001b[39;49m\u001b[38;5;241;43m.\u001b[39;49m\u001b[43m_cython_agg_general\u001b[49m\u001b[43m(\u001b[49m\n\u001b[0;32m   2453\u001b[0m \u001b[43m        \u001b[49m\u001b[38;5;124;43m\"\u001b[39;49m\u001b[38;5;124;43mmean\u001b[39;49m\u001b[38;5;124;43m\"\u001b[39;49m\u001b[43m,\u001b[49m\n\u001b[0;32m   2454\u001b[0m \u001b[43m        \u001b[49m\u001b[43malt\u001b[49m\u001b[38;5;241;43m=\u001b[39;49m\u001b[38;5;28;43;01mlambda\u001b[39;49;00m\u001b[43m \u001b[49m\u001b[43mx\u001b[49m\u001b[43m:\u001b[49m\u001b[43m \u001b[49m\u001b[43mSeries\u001b[49m\u001b[43m(\u001b[49m\u001b[43mx\u001b[49m\u001b[43m,\u001b[49m\u001b[43m \u001b[49m\u001b[43mcopy\u001b[49m\u001b[38;5;241;43m=\u001b[39;49m\u001b[38;5;28;43;01mFalse\u001b[39;49;00m\u001b[43m)\u001b[49m\u001b[38;5;241;43m.\u001b[39;49m\u001b[43mmean\u001b[49m\u001b[43m(\u001b[49m\u001b[43mnumeric_only\u001b[49m\u001b[38;5;241;43m=\u001b[39;49m\u001b[43mnumeric_only\u001b[49m\u001b[43m)\u001b[49m\u001b[43m,\u001b[49m\n\u001b[0;32m   2455\u001b[0m \u001b[43m        \u001b[49m\u001b[43mnumeric_only\u001b[49m\u001b[38;5;241;43m=\u001b[39;49m\u001b[43mnumeric_only\u001b[49m\u001b[43m,\u001b[49m\n\u001b[0;32m   2456\u001b[0m \u001b[43m    \u001b[49m\u001b[43m)\u001b[49m\n\u001b[0;32m   2457\u001b[0m     \u001b[38;5;28;01mreturn\u001b[39;00m result\u001b[38;5;241m.\u001b[39m__finalize__(\u001b[38;5;28mself\u001b[39m\u001b[38;5;241m.\u001b[39mobj, method\u001b[38;5;241m=\u001b[39m\u001b[38;5;124m\"\u001b[39m\u001b[38;5;124mgroupby\u001b[39m\u001b[38;5;124m\"\u001b[39m)\n",
            "File \u001b[1;32mc:\\Users\\callu\\repos\\lessons\\1. RAG\\.venv\\lib\\site-packages\\pandas\\core\\groupby\\groupby.py:1998\u001b[0m, in \u001b[0;36mGroupBy._cython_agg_general\u001b[1;34m(self, how, alt, numeric_only, min_count, **kwargs)\u001b[0m\n\u001b[0;32m   1995\u001b[0m     result \u001b[38;5;241m=\u001b[39m \u001b[38;5;28mself\u001b[39m\u001b[38;5;241m.\u001b[39m_agg_py_fallback(how, values, ndim\u001b[38;5;241m=\u001b[39mdata\u001b[38;5;241m.\u001b[39mndim, alt\u001b[38;5;241m=\u001b[39malt)\n\u001b[0;32m   1996\u001b[0m     \u001b[38;5;28;01mreturn\u001b[39;00m result\n\u001b[1;32m-> 1998\u001b[0m new_mgr \u001b[38;5;241m=\u001b[39m \u001b[43mdata\u001b[49m\u001b[38;5;241;43m.\u001b[39;49m\u001b[43mgrouped_reduce\u001b[49m\u001b[43m(\u001b[49m\u001b[43marray_func\u001b[49m\u001b[43m)\u001b[49m\n\u001b[0;32m   1999\u001b[0m res \u001b[38;5;241m=\u001b[39m \u001b[38;5;28mself\u001b[39m\u001b[38;5;241m.\u001b[39m_wrap_agged_manager(new_mgr)\n\u001b[0;32m   2000\u001b[0m \u001b[38;5;28;01mif\u001b[39;00m how \u001b[38;5;129;01min\u001b[39;00m [\u001b[38;5;124m\"\u001b[39m\u001b[38;5;124midxmin\u001b[39m\u001b[38;5;124m\"\u001b[39m, \u001b[38;5;124m\"\u001b[39m\u001b[38;5;124midxmax\u001b[39m\u001b[38;5;124m\"\u001b[39m]:\n",
            "File \u001b[1;32mc:\\Users\\callu\\repos\\lessons\\1. RAG\\.venv\\lib\\site-packages\\pandas\\core\\internals\\managers.py:1469\u001b[0m, in \u001b[0;36mBlockManager.grouped_reduce\u001b[1;34m(self, func)\u001b[0m\n\u001b[0;32m   1465\u001b[0m \u001b[38;5;28;01mif\u001b[39;00m blk\u001b[38;5;241m.\u001b[39mis_object:\n\u001b[0;32m   1466\u001b[0m     \u001b[38;5;66;03m# split on object-dtype blocks bc some columns may raise\u001b[39;00m\n\u001b[0;32m   1467\u001b[0m     \u001b[38;5;66;03m#  while others do not.\u001b[39;00m\n\u001b[0;32m   1468\u001b[0m     \u001b[38;5;28;01mfor\u001b[39;00m sb \u001b[38;5;129;01min\u001b[39;00m blk\u001b[38;5;241m.\u001b[39m_split():\n\u001b[1;32m-> 1469\u001b[0m         applied \u001b[38;5;241m=\u001b[39m \u001b[43msb\u001b[49m\u001b[38;5;241;43m.\u001b[39;49m\u001b[43mapply\u001b[49m\u001b[43m(\u001b[49m\u001b[43mfunc\u001b[49m\u001b[43m)\u001b[49m\n\u001b[0;32m   1470\u001b[0m         result_blocks \u001b[38;5;241m=\u001b[39m extend_blocks(applied, result_blocks)\n\u001b[0;32m   1471\u001b[0m \u001b[38;5;28;01melse\u001b[39;00m:\n",
            "File \u001b[1;32mc:\\Users\\callu\\repos\\lessons\\1. RAG\\.venv\\lib\\site-packages\\pandas\\core\\internals\\blocks.py:393\u001b[0m, in \u001b[0;36mBlock.apply\u001b[1;34m(self, func, **kwargs)\u001b[0m\n\u001b[0;32m    387\u001b[0m \u001b[38;5;129m@final\u001b[39m\n\u001b[0;32m    388\u001b[0m \u001b[38;5;28;01mdef\u001b[39;00m \u001b[38;5;21mapply\u001b[39m(\u001b[38;5;28mself\u001b[39m, func, \u001b[38;5;241m*\u001b[39m\u001b[38;5;241m*\u001b[39mkwargs) \u001b[38;5;241m-\u001b[39m\u001b[38;5;241m>\u001b[39m \u001b[38;5;28mlist\u001b[39m[Block]:\n\u001b[0;32m    389\u001b[0m \u001b[38;5;250m    \u001b[39m\u001b[38;5;124;03m\"\"\"\u001b[39;00m\n\u001b[0;32m    390\u001b[0m \u001b[38;5;124;03m    apply the function to my values; return a block if we are not\u001b[39;00m\n\u001b[0;32m    391\u001b[0m \u001b[38;5;124;03m    one\u001b[39;00m\n\u001b[0;32m    392\u001b[0m \u001b[38;5;124;03m    \"\"\"\u001b[39;00m\n\u001b[1;32m--> 393\u001b[0m     result \u001b[38;5;241m=\u001b[39m func(\u001b[38;5;28mself\u001b[39m\u001b[38;5;241m.\u001b[39mvalues, \u001b[38;5;241m*\u001b[39m\u001b[38;5;241m*\u001b[39mkwargs)\n\u001b[0;32m    395\u001b[0m     result \u001b[38;5;241m=\u001b[39m maybe_coerce_values(result)\n\u001b[0;32m    396\u001b[0m     \u001b[38;5;28;01mreturn\u001b[39;00m \u001b[38;5;28mself\u001b[39m\u001b[38;5;241m.\u001b[39m_split_op_result(result)\n",
            "File \u001b[1;32mc:\\Users\\callu\\repos\\lessons\\1. RAG\\.venv\\lib\\site-packages\\pandas\\core\\groupby\\groupby.py:1995\u001b[0m, in \u001b[0;36mGroupBy._cython_agg_general.<locals>.array_func\u001b[1;34m(values)\u001b[0m\n\u001b[0;32m   1992\u001b[0m     \u001b[38;5;28;01mreturn\u001b[39;00m result\n\u001b[0;32m   1994\u001b[0m \u001b[38;5;28;01massert\u001b[39;00m alt \u001b[38;5;129;01mis\u001b[39;00m \u001b[38;5;129;01mnot\u001b[39;00m \u001b[38;5;28;01mNone\u001b[39;00m\n\u001b[1;32m-> 1995\u001b[0m result \u001b[38;5;241m=\u001b[39m \u001b[38;5;28;43mself\u001b[39;49m\u001b[38;5;241;43m.\u001b[39;49m\u001b[43m_agg_py_fallback\u001b[49m\u001b[43m(\u001b[49m\u001b[43mhow\u001b[49m\u001b[43m,\u001b[49m\u001b[43m \u001b[49m\u001b[43mvalues\u001b[49m\u001b[43m,\u001b[49m\u001b[43m \u001b[49m\u001b[43mndim\u001b[49m\u001b[38;5;241;43m=\u001b[39;49m\u001b[43mdata\u001b[49m\u001b[38;5;241;43m.\u001b[39;49m\u001b[43mndim\u001b[49m\u001b[43m,\u001b[49m\u001b[43m \u001b[49m\u001b[43malt\u001b[49m\u001b[38;5;241;43m=\u001b[39;49m\u001b[43malt\u001b[49m\u001b[43m)\u001b[49m\n\u001b[0;32m   1996\u001b[0m \u001b[38;5;28;01mreturn\u001b[39;00m result\n",
            "File \u001b[1;32mc:\\Users\\callu\\repos\\lessons\\1. RAG\\.venv\\lib\\site-packages\\pandas\\core\\groupby\\groupby.py:1946\u001b[0m, in \u001b[0;36mGroupBy._agg_py_fallback\u001b[1;34m(self, how, values, ndim, alt)\u001b[0m\n\u001b[0;32m   1944\u001b[0m     msg \u001b[38;5;241m=\u001b[39m \u001b[38;5;124mf\u001b[39m\u001b[38;5;124m\"\u001b[39m\u001b[38;5;124magg function failed [how->\u001b[39m\u001b[38;5;132;01m{\u001b[39;00mhow\u001b[38;5;132;01m}\u001b[39;00m\u001b[38;5;124m,dtype->\u001b[39m\u001b[38;5;132;01m{\u001b[39;00mser\u001b[38;5;241m.\u001b[39mdtype\u001b[38;5;132;01m}\u001b[39;00m\u001b[38;5;124m]\u001b[39m\u001b[38;5;124m\"\u001b[39m\n\u001b[0;32m   1945\u001b[0m     \u001b[38;5;66;03m# preserve the kind of exception that raised\u001b[39;00m\n\u001b[1;32m-> 1946\u001b[0m     \u001b[38;5;28;01mraise\u001b[39;00m \u001b[38;5;28mtype\u001b[39m(err)(msg) \u001b[38;5;28;01mfrom\u001b[39;00m \u001b[38;5;21;01merr\u001b[39;00m\n\u001b[0;32m   1948\u001b[0m \u001b[38;5;28;01mif\u001b[39;00m ser\u001b[38;5;241m.\u001b[39mdtype \u001b[38;5;241m==\u001b[39m \u001b[38;5;28mobject\u001b[39m:\n\u001b[0;32m   1949\u001b[0m     res_values \u001b[38;5;241m=\u001b[39m res_values\u001b[38;5;241m.\u001b[39mastype(\u001b[38;5;28mobject\u001b[39m, copy\u001b[38;5;241m=\u001b[39m\u001b[38;5;28;01mFalse\u001b[39;00m)\n",
            "\u001b[1;31mTypeError\u001b[0m: agg function failed [how->mean,dtype->object]"
          ]
        }
      ],
      "source": [
        "data.groupby('Client Type').mean()"
      ]
    },
    {
      "cell_type": "code",
      "execution_count": 37,
      "id": "1f3d0f46",
      "metadata": {},
      "outputs": [
        {
          "data": {
            "text/plain": [
              "<bound method IndexOpsMixin.tolist of Index(['Client ID', 'Client Type', 'Number of Customers', 'Montly Target',\n",
              "       'Zip Code', 'Calendardate', 'Amount Collected', 'Unit Sold',\n",
              "       'Campaign (Email)', 'Campaign (Flyer)', 'Campaign (Phone)',\n",
              "       'Sales Contact 1', 'Sales Contact 2', 'Sales Contact 3',\n",
              "       'Sales Contact 4', 'Sales Contact 5', 'Number of Competition',\n",
              "       'Calendar_Month', 'Calendar_Year'],\n",
              "      dtype='object')>"
            ]
          },
          "execution_count": 37,
          "metadata": {},
          "output_type": "execute_result"
        }
      ],
      "source": [
        "data.columns.to_list"
      ]
    },
    {
      "cell_type": "code",
      "execution_count": 38,
      "id": "MLr6O-TkyLnl",
      "metadata": {
        "colab": {
          "base_uri": "https://localhost:8080/",
          "height": 520
        },
        "id": "MLr6O-TkyLnl",
        "outputId": "1ec35bdd-8d8e-42b9-c04a-3cf53f2eec49"
      },
      "outputs": [
        {
          "ename": "KeyError",
          "evalue": "\"['Client ID'] not found in axis\"",
          "output_type": "error",
          "traceback": [
            "\u001b[1;31m---------------------------------------------------------------------------\u001b[0m",
            "\u001b[1;31mKeyError\u001b[0m                                  Traceback (most recent call last)",
            "Cell \u001b[1;32mIn[38], line 1\u001b[0m\n\u001b[1;32m----> 1\u001b[0m \u001b[43mdata\u001b[49m\u001b[38;5;241;43m.\u001b[39;49m\u001b[43mdrop\u001b[49m\u001b[43m(\u001b[49m\u001b[38;5;124;43m'\u001b[39;49m\u001b[38;5;124;43mClient ID\u001b[39;49m\u001b[38;5;124;43m'\u001b[39;49m\u001b[43m)\u001b[49m\u001b[38;5;241m.\u001b[39mcorr()[[\u001b[38;5;124m'\u001b[39m\u001b[38;5;124mAmount_Collected\u001b[39m\u001b[38;5;124m'\u001b[39m]]\n",
            "File \u001b[1;32mc:\\Users\\callu\\repos\\lessons\\1. RAG\\.venv\\lib\\site-packages\\pandas\\core\\frame.py:5581\u001b[0m, in \u001b[0;36mDataFrame.drop\u001b[1;34m(self, labels, axis, index, columns, level, inplace, errors)\u001b[0m\n\u001b[0;32m   5433\u001b[0m \u001b[38;5;28;01mdef\u001b[39;00m \u001b[38;5;21mdrop\u001b[39m(\n\u001b[0;32m   5434\u001b[0m     \u001b[38;5;28mself\u001b[39m,\n\u001b[0;32m   5435\u001b[0m     labels: IndexLabel \u001b[38;5;241m|\u001b[39m \u001b[38;5;28;01mNone\u001b[39;00m \u001b[38;5;241m=\u001b[39m \u001b[38;5;28;01mNone\u001b[39;00m,\n\u001b[1;32m   (...)\u001b[0m\n\u001b[0;32m   5442\u001b[0m     errors: IgnoreRaise \u001b[38;5;241m=\u001b[39m \u001b[38;5;124m\"\u001b[39m\u001b[38;5;124mraise\u001b[39m\u001b[38;5;124m\"\u001b[39m,\n\u001b[0;32m   5443\u001b[0m ) \u001b[38;5;241m-\u001b[39m\u001b[38;5;241m>\u001b[39m DataFrame \u001b[38;5;241m|\u001b[39m \u001b[38;5;28;01mNone\u001b[39;00m:\n\u001b[0;32m   5444\u001b[0m \u001b[38;5;250m    \u001b[39m\u001b[38;5;124;03m\"\"\"\u001b[39;00m\n\u001b[0;32m   5445\u001b[0m \u001b[38;5;124;03m    Drop specified labels from rows or columns.\u001b[39;00m\n\u001b[0;32m   5446\u001b[0m \n\u001b[1;32m   (...)\u001b[0m\n\u001b[0;32m   5579\u001b[0m \u001b[38;5;124;03m            weight  1.0     0.8\u001b[39;00m\n\u001b[0;32m   5580\u001b[0m \u001b[38;5;124;03m    \"\"\"\u001b[39;00m\n\u001b[1;32m-> 5581\u001b[0m     \u001b[38;5;28;01mreturn\u001b[39;00m \u001b[38;5;28;43msuper\u001b[39;49m\u001b[43m(\u001b[49m\u001b[43m)\u001b[49m\u001b[38;5;241;43m.\u001b[39;49m\u001b[43mdrop\u001b[49m\u001b[43m(\u001b[49m\n\u001b[0;32m   5582\u001b[0m \u001b[43m        \u001b[49m\u001b[43mlabels\u001b[49m\u001b[38;5;241;43m=\u001b[39;49m\u001b[43mlabels\u001b[49m\u001b[43m,\u001b[49m\n\u001b[0;32m   5583\u001b[0m \u001b[43m        \u001b[49m\u001b[43maxis\u001b[49m\u001b[38;5;241;43m=\u001b[39;49m\u001b[43maxis\u001b[49m\u001b[43m,\u001b[49m\n\u001b[0;32m   5584\u001b[0m \u001b[43m        \u001b[49m\u001b[43mindex\u001b[49m\u001b[38;5;241;43m=\u001b[39;49m\u001b[43mindex\u001b[49m\u001b[43m,\u001b[49m\n\u001b[0;32m   5585\u001b[0m \u001b[43m        \u001b[49m\u001b[43mcolumns\u001b[49m\u001b[38;5;241;43m=\u001b[39;49m\u001b[43mcolumns\u001b[49m\u001b[43m,\u001b[49m\n\u001b[0;32m   5586\u001b[0m \u001b[43m        \u001b[49m\u001b[43mlevel\u001b[49m\u001b[38;5;241;43m=\u001b[39;49m\u001b[43mlevel\u001b[49m\u001b[43m,\u001b[49m\n\u001b[0;32m   5587\u001b[0m \u001b[43m        \u001b[49m\u001b[43minplace\u001b[49m\u001b[38;5;241;43m=\u001b[39;49m\u001b[43minplace\u001b[49m\u001b[43m,\u001b[49m\n\u001b[0;32m   5588\u001b[0m \u001b[43m        \u001b[49m\u001b[43merrors\u001b[49m\u001b[38;5;241;43m=\u001b[39;49m\u001b[43merrors\u001b[49m\u001b[43m,\u001b[49m\n\u001b[0;32m   5589\u001b[0m \u001b[43m    \u001b[49m\u001b[43m)\u001b[49m\n",
            "File \u001b[1;32mc:\\Users\\callu\\repos\\lessons\\1. RAG\\.venv\\lib\\site-packages\\pandas\\core\\generic.py:4788\u001b[0m, in \u001b[0;36mNDFrame.drop\u001b[1;34m(self, labels, axis, index, columns, level, inplace, errors)\u001b[0m\n\u001b[0;32m   4786\u001b[0m \u001b[38;5;28;01mfor\u001b[39;00m axis, labels \u001b[38;5;129;01min\u001b[39;00m axes\u001b[38;5;241m.\u001b[39mitems():\n\u001b[0;32m   4787\u001b[0m     \u001b[38;5;28;01mif\u001b[39;00m labels \u001b[38;5;129;01mis\u001b[39;00m \u001b[38;5;129;01mnot\u001b[39;00m \u001b[38;5;28;01mNone\u001b[39;00m:\n\u001b[1;32m-> 4788\u001b[0m         obj \u001b[38;5;241m=\u001b[39m \u001b[43mobj\u001b[49m\u001b[38;5;241;43m.\u001b[39;49m\u001b[43m_drop_axis\u001b[49m\u001b[43m(\u001b[49m\u001b[43mlabels\u001b[49m\u001b[43m,\u001b[49m\u001b[43m \u001b[49m\u001b[43maxis\u001b[49m\u001b[43m,\u001b[49m\u001b[43m \u001b[49m\u001b[43mlevel\u001b[49m\u001b[38;5;241;43m=\u001b[39;49m\u001b[43mlevel\u001b[49m\u001b[43m,\u001b[49m\u001b[43m \u001b[49m\u001b[43merrors\u001b[49m\u001b[38;5;241;43m=\u001b[39;49m\u001b[43merrors\u001b[49m\u001b[43m)\u001b[49m\n\u001b[0;32m   4790\u001b[0m \u001b[38;5;28;01mif\u001b[39;00m inplace:\n\u001b[0;32m   4791\u001b[0m     \u001b[38;5;28mself\u001b[39m\u001b[38;5;241m.\u001b[39m_update_inplace(obj)\n",
            "File \u001b[1;32mc:\\Users\\callu\\repos\\lessons\\1. RAG\\.venv\\lib\\site-packages\\pandas\\core\\generic.py:4830\u001b[0m, in \u001b[0;36mNDFrame._drop_axis\u001b[1;34m(self, labels, axis, level, errors, only_slice)\u001b[0m\n\u001b[0;32m   4828\u001b[0m         new_axis \u001b[38;5;241m=\u001b[39m axis\u001b[38;5;241m.\u001b[39mdrop(labels, level\u001b[38;5;241m=\u001b[39mlevel, errors\u001b[38;5;241m=\u001b[39merrors)\n\u001b[0;32m   4829\u001b[0m     \u001b[38;5;28;01melse\u001b[39;00m:\n\u001b[1;32m-> 4830\u001b[0m         new_axis \u001b[38;5;241m=\u001b[39m \u001b[43maxis\u001b[49m\u001b[38;5;241;43m.\u001b[39;49m\u001b[43mdrop\u001b[49m\u001b[43m(\u001b[49m\u001b[43mlabels\u001b[49m\u001b[43m,\u001b[49m\u001b[43m \u001b[49m\u001b[43merrors\u001b[49m\u001b[38;5;241;43m=\u001b[39;49m\u001b[43merrors\u001b[49m\u001b[43m)\u001b[49m\n\u001b[0;32m   4831\u001b[0m     indexer \u001b[38;5;241m=\u001b[39m axis\u001b[38;5;241m.\u001b[39mget_indexer(new_axis)\n\u001b[0;32m   4833\u001b[0m \u001b[38;5;66;03m# Case for non-unique axis\u001b[39;00m\n\u001b[0;32m   4834\u001b[0m \u001b[38;5;28;01melse\u001b[39;00m:\n",
            "File \u001b[1;32mc:\\Users\\callu\\repos\\lessons\\1. RAG\\.venv\\lib\\site-packages\\pandas\\core\\indexes\\base.py:7070\u001b[0m, in \u001b[0;36mIndex.drop\u001b[1;34m(self, labels, errors)\u001b[0m\n\u001b[0;32m   7068\u001b[0m \u001b[38;5;28;01mif\u001b[39;00m mask\u001b[38;5;241m.\u001b[39many():\n\u001b[0;32m   7069\u001b[0m     \u001b[38;5;28;01mif\u001b[39;00m errors \u001b[38;5;241m!=\u001b[39m \u001b[38;5;124m\"\u001b[39m\u001b[38;5;124mignore\u001b[39m\u001b[38;5;124m\"\u001b[39m:\n\u001b[1;32m-> 7070\u001b[0m         \u001b[38;5;28;01mraise\u001b[39;00m \u001b[38;5;167;01mKeyError\u001b[39;00m(\u001b[38;5;124mf\u001b[39m\u001b[38;5;124m\"\u001b[39m\u001b[38;5;132;01m{\u001b[39;00mlabels[mask]\u001b[38;5;241m.\u001b[39mtolist()\u001b[38;5;132;01m}\u001b[39;00m\u001b[38;5;124m not found in axis\u001b[39m\u001b[38;5;124m\"\u001b[39m)\n\u001b[0;32m   7071\u001b[0m     indexer \u001b[38;5;241m=\u001b[39m indexer[\u001b[38;5;241m~\u001b[39mmask]\n\u001b[0;32m   7072\u001b[0m \u001b[38;5;28;01mreturn\u001b[39;00m \u001b[38;5;28mself\u001b[39m\u001b[38;5;241m.\u001b[39mdelete(indexer)\n",
            "\u001b[1;31mKeyError\u001b[0m: \"['Client ID'] not found in axis\""
          ]
        }
      ],
      "source": [
        "data.drop('Client ID').corr()[['Amount_Collected']]"
      ]
    },
    {
      "cell_type": "markdown",
      "id": "pgHWmXVr8J7u",
      "metadata": {
        "id": "pgHWmXVr8J7u"
      },
      "source": [
        "Correlation Analysis"
      ]
    },
    {
      "cell_type": "code",
      "execution_count": 41,
      "id": "25c3720a",
      "metadata": {
        "colab": {
          "base_uri": "https://localhost:8080/",
          "height": 335
        },
        "id": "25c3720a",
        "outputId": "45270e77-2b8d-4be2-ce14-8e054844a8c3",
        "scrolled": false
      },
      "outputs": [
        {
          "ename": "AttributeError",
          "evalue": "'Styler' object has no attribute 'set_precision'",
          "output_type": "error",
          "traceback": [
            "\u001b[1;31m---------------------------------------------------------------------------\u001b[0m",
            "\u001b[1;31mAttributeError\u001b[0m                            Traceback (most recent call last)",
            "Cell \u001b[1;32mIn[41], line 12\u001b[0m\n\u001b[0;32m     10\u001b[0m correlation_analysis\u001b[38;5;241m=\u001b[39mcorrelation_analysis[correlation_analysis[\u001b[38;5;124m'\u001b[39m\u001b[38;5;124mImpacting Variable\u001b[39m\u001b[38;5;124m'\u001b[39m]\u001b[38;5;241m!=\u001b[39m\u001b[38;5;124m'\u001b[39m\u001b[38;5;124mAmount Collected\u001b[39m\u001b[38;5;124m'\u001b[39m]\n\u001b[0;32m     11\u001b[0m correlation_analysis\u001b[38;5;241m=\u001b[39mcorrelation_analysis\u001b[38;5;241m.\u001b[39msort_values(\u001b[38;5;124m'\u001b[39m\u001b[38;5;124mDegree of Linear Impact (Correlation)\u001b[39m\u001b[38;5;124m'\u001b[39m,ascending\u001b[38;5;241m=\u001b[39m\u001b[38;5;28;01mFalse\u001b[39;00m)\n\u001b[1;32m---> 12\u001b[0m \u001b[43mcorrelation_analysis\u001b[49m\u001b[38;5;241;43m.\u001b[39;49m\u001b[43mstyle\u001b[49m\u001b[38;5;241;43m.\u001b[39;49m\u001b[43mbackground_gradient\u001b[49m\u001b[43m(\u001b[49m\u001b[43mcmap\u001b[49m\u001b[38;5;241;43m=\u001b[39;49m\u001b[43mcm\u001b[49m\u001b[43m)\u001b[49m\u001b[38;5;241;43m.\u001b[39;49m\u001b[43mset_precision\u001b[49m(\u001b[38;5;241m2\u001b[39m)\n",
            "\u001b[1;31mAttributeError\u001b[0m: 'Styler' object has no attribute 'set_precision'"
          ]
        }
      ],
      "source": [
        "## Consolidated Strategy for Targeting\n",
        "        \n",
        "import seaborn as sns\n",
        "cm = sns.light_palette(\"green\", as_cmap=True)\n",
        "correlation_analysis=pd.DataFrame(data[['Amount Collected',\n",
        "'Campaign (Email)', 'Campaign (Flyer)', 'Campaign (Phone)',\n",
        "       'Sales Contact 1', 'Sales Contact 2', 'Sales Contact 3',\n",
        "       'Sales Contact 4', 'Sales Contact 5']].corr()['Amount Collected']).reset_index()\n",
        "correlation_analysis.columns=['Impacting Variable','Degree of Linear Impact (Correlation)']\n",
        "correlation_analysis=correlation_analysis[correlation_analysis['Impacting Variable']!='Amount Collected']\n",
        "correlation_analysis=correlation_analysis.sort_values('Degree of Linear Impact (Correlation)',ascending=False)\n",
        "correlation_analysis.style.background_gradient(cmap=cm).set_precision(2)"
      ]
    },
    {
      "cell_type": "markdown",
      "id": "0da606b7",
      "metadata": {
        "id": "0da606b7"
      },
      "source": [
        "#### Market Strategy Impact on Sales (Broken by different account type)"
      ]
    },
    {
      "cell_type": "code",
      "execution_count": null,
      "id": "b3ba879c",
      "metadata": {
        "colab": {
          "base_uri": "https://localhost:8080/",
          "height": 1000
        },
        "id": "b3ba879c",
        "outputId": "7911d62e-1d31-42a9-c378-64e24ee25d15"
      },
      "outputs": [],
      "source": [
        "# Import seaborn library\n",
        "import seaborn as sns\n",
        "cm = sns.light_palette(\"green\", as_cmap=True)\n",
        "correlation_analysis=pd.DataFrame(data.groupby('Client Type')[['Amount Collected',\n",
        "       'Campaign (Email)', 'Campaign (Flyer)', 'Campaign (Phone)',\n",
        "       'Sales Contact 1', 'Sales Contact 2', 'Sales Contact 3',\n",
        "       'Sales Contact 4', 'Sales Contact 5']].corr()['Amount Collected']).reset_index()\n",
        "correlation_analysis=correlation_analysis.sort_values(['Client Type','Amount Collected'],ascending=False)\n",
        "correlation_analysis.columns=['Acc Type','Variable Impact on Sales','Impact']\n",
        "correlation_analysis=correlation_analysis[correlation_analysis['Variable Impact on Sales']!='Amount Collected'].reset_index(drop=True)\n",
        "correlation_analysis.style.background_gradient(cmap=cm).set_precision(2)"
      ]
    },
    {
      "cell_type": "markdown",
      "id": "e78400da",
      "metadata": {
        "id": "e78400da"
      },
      "source": [
        "#### Regression Analysis (Market Sales and Strategies)"
      ]
    },
    {
      "cell_type": "code",
      "execution_count": 43,
      "id": "8bd89a80",
      "metadata": {
        "colab": {
          "base_uri": "https://localhost:8080/"
        },
        "id": "8bd89a80",
        "outputId": "bb5df4e1-27b5-483e-cf59-fbb129063a96",
        "scrolled": false
      },
      "outputs": [
        {
          "name": "stdout",
          "output_type": "stream",
          "text": [
            "                            OLS Regression Results                            \n",
            "==============================================================================\n",
            "Dep. Variable:       Amount_Collected   R-squared:                       0.480\n",
            "Model:                            OLS   Adj. R-squared:                  0.478\n",
            "Method:                 Least Squares   F-statistic:                     342.1\n",
            "Date:                Wed, 22 May 2024   Prob (F-statistic):               0.00\n",
            "Time:                        09:57:32   Log-Likelihood:                -54512.\n",
            "No. Observations:                2976   AIC:                         1.090e+05\n",
            "Df Residuals:                    2967   BIC:                         1.091e+05\n",
            "Df Model:                           8                                         \n",
            "Covariance Type:            nonrobust                                         \n",
            "===================================================================================\n",
            "                      coef    std err          t      P>|t|      [0.025      0.975]\n",
            "-----------------------------------------------------------------------------------\n",
            "Intercept        1.481e+06   5.12e+05      2.891      0.004    4.77e+05    2.49e+06\n",
            "Campaign_Email      0.7932      0.597      1.329      0.184      -0.377       1.963\n",
            "Campaign_Flyer      3.3376      0.260     12.831      0.000       2.828       3.848\n",
            "Campaign_Phone      0.0734      1.053      0.070      0.944      -1.991       2.137\n",
            "Sales_Contact_1     4.2368      0.415     10.207      0.000       3.423       5.051\n",
            "Sales_Contact_2     3.6382      0.129     28.155      0.000       3.385       3.892\n",
            "Sales_Contact_3     2.3432      0.131     17.925      0.000       2.087       2.600\n",
            "Sales_Contact_4    10.9478      1.060     10.331      0.000       8.870      13.026\n",
            "Sales_Contact_5     3.5078      4.549      0.771      0.441      -5.412      12.428\n",
            "==============================================================================\n",
            "Omnibus:                     1099.749   Durbin-Watson:                   0.624\n",
            "Prob(Omnibus):                  0.000   Jarque-Bera (JB):             7733.226\n",
            "Skew:                           1.578   Prob(JB):                         0.00\n",
            "Kurtosis:                      10.239   Cond. No.                     5.89e+06\n",
            "==============================================================================\n",
            "\n",
            "Notes:\n",
            "[1] Standard Errors assume that the covariance matrix of the errors is correctly specified.\n",
            "[2] The condition number is large, 5.89e+06. This might indicate that there are\n",
            "strong multicollinearity or other numerical problems.\n"
          ]
        }
      ],
      "source": [
        "import statsmodels.api as sm\n",
        "import statsmodels.formula.api as smf\n",
        "data.columns=[mystring.replace(\" \", \"_\") for mystring in data.columns]\n",
        "data.columns=[mystring.replace(\"(\", \"\") for mystring in data.columns]\n",
        "data.columns=[mystring.replace(\")\", \"\") for mystring in data.columns]\n",
        "results = smf.ols('Amount_Collected ~ Campaign_Email+Campaign_Flyer+Campaign_Phone+\\\n",
        "       Sales_Contact_1 + Sales_Contact_2 + Sales_Contact_3+Sales_Contact_4 + Sales_Contact_5',data=data).fit()\n",
        "print(results.summary())"
      ]
    },
    {
      "cell_type": "code",
      "execution_count": 45,
      "id": "66feffdb",
      "metadata": {
        "id": "66feffdb"
      },
      "outputs": [
        {
          "name": "stderr",
          "output_type": "stream",
          "text": [
            "C:\\Users\\callu\\AppData\\Local\\Temp\\ipykernel_11584\\436344858.py:1: FutureWarning: Passing literal html to 'read_html' is deprecated and will be removed in a future version. To read from a literal string, wrap it in a 'StringIO' object.\n",
            "  df = pd.read_html(results.summary().tables[1].as_html(),header=0,index_col=0)[0]\n"
          ]
        }
      ],
      "source": [
        "df = pd.read_html(results.summary().tables[1].as_html(),header=0,index_col=0)[0]"
      ]
    },
    {
      "cell_type": "code",
      "execution_count": 46,
      "id": "3d3bd76c",
      "metadata": {
        "colab": {
          "base_uri": "https://localhost:8080/",
          "height": 238
        },
        "id": "3d3bd76c",
        "outputId": "9dfcb27e-c1fa-4f03-ed3d-c98a70723743"
      },
      "outputs": [
        {
          "data": {
            "text/html": [
              "<div>\n",
              "<style scoped>\n",
              "    .dataframe tbody tr th:only-of-type {\n",
              "        vertical-align: middle;\n",
              "    }\n",
              "\n",
              "    .dataframe tbody tr th {\n",
              "        vertical-align: top;\n",
              "    }\n",
              "\n",
              "    .dataframe thead th {\n",
              "        text-align: right;\n",
              "    }\n",
              "</style>\n",
              "<table border=\"1\" class=\"dataframe\">\n",
              "  <thead>\n",
              "    <tr style=\"text-align: right;\">\n",
              "      <th></th>\n",
              "      <th>index</th>\n",
              "      <th>coef</th>\n",
              "    </tr>\n",
              "  </thead>\n",
              "  <tbody>\n",
              "    <tr>\n",
              "      <th>0</th>\n",
              "      <td>Intercept</td>\n",
              "      <td>1.481000e+06</td>\n",
              "    </tr>\n",
              "    <tr>\n",
              "      <th>2</th>\n",
              "      <td>Campaign_Flyer</td>\n",
              "      <td>3.337600e+00</td>\n",
              "    </tr>\n",
              "    <tr>\n",
              "      <th>4</th>\n",
              "      <td>Sales_Contact_1</td>\n",
              "      <td>4.236800e+00</td>\n",
              "    </tr>\n",
              "    <tr>\n",
              "      <th>5</th>\n",
              "      <td>Sales_Contact_2</td>\n",
              "      <td>3.638200e+00</td>\n",
              "    </tr>\n",
              "    <tr>\n",
              "      <th>6</th>\n",
              "      <td>Sales_Contact_3</td>\n",
              "      <td>2.343200e+00</td>\n",
              "    </tr>\n",
              "    <tr>\n",
              "      <th>7</th>\n",
              "      <td>Sales_Contact_4</td>\n",
              "      <td>1.094780e+01</td>\n",
              "    </tr>\n",
              "  </tbody>\n",
              "</table>\n",
              "</div>"
            ],
            "text/plain": [
              "             index          coef\n",
              "0        Intercept  1.481000e+06\n",
              "2   Campaign_Flyer  3.337600e+00\n",
              "4  Sales_Contact_1  4.236800e+00\n",
              "5  Sales_Contact_2  3.638200e+00\n",
              "6  Sales_Contact_3  2.343200e+00\n",
              "7  Sales_Contact_4  1.094780e+01"
            ]
          },
          "execution_count": 46,
          "metadata": {},
          "output_type": "execute_result"
        }
      ],
      "source": [
        "df=df.reset_index()\n",
        "df=df[df['P>|t|']<0.05][['index','coef']]\n",
        "df"
      ]
    },
    {
      "cell_type": "markdown",
      "id": "8975b164",
      "metadata": {
        "id": "8975b164"
      },
      "source": [
        "#### Regression Analysis (Market Sales and Strategies) - Broken for different account types"
      ]
    },
    {
      "cell_type": "code",
      "execution_count": 52,
      "id": "c89eb1bd",
      "metadata": {
        "colab": {
          "base_uri": "https://localhost:8080/"
        },
        "id": "c89eb1bd",
        "outputId": "a65f96f1-aadc-45d1-8ccd-f4f7b7d6aaab"
      },
      "outputs": [
        {
          "name": "stderr",
          "output_type": "stream",
          "text": [
            "C:\\Users\\callu\\AppData\\Local\\Temp\\ipykernel_11584\\2475560057.py:6: FutureWarning: Passing literal html to 'read_html' is deprecated and will be removed in a future version. To read from a literal string, wrap it in a 'StringIO' object.\n",
            "  df = pd.read_html(results.summary().tables[1].as_html(),header=0,index_col=0)[0].reset_index()\n"
          ]
        },
        {
          "name": "stdout",
          "output_type": "stream",
          "text": [
            "Medium Facility\n",
            "          Variable  Coefficent (Impact)     Account Type\n",
            "2   Campaign_Flyer               4.1059  Medium Facility\n",
            "5  Sales_Contact_2               3.5778  Medium Facility\n",
            "4  Sales_Contact_1               3.1365  Medium Facility\n",
            "6  Sales_Contact_3               2.1174  Medium Facility\n",
            "Small Facility \n",
            "          Variable  Coefficent (Impact)     Account Type\n",
            "5  Sales_Contact_2             0.810100  Small Facility \n",
            "3   Campaign_Phone            -0.000003  Small Facility \n"
          ]
        },
        {
          "name": "stderr",
          "output_type": "stream",
          "text": [
            "C:\\Users\\callu\\AppData\\Local\\Temp\\ipykernel_11584\\2475560057.py:6: FutureWarning: Passing literal html to 'read_html' is deprecated and will be removed in a future version. To read from a literal string, wrap it in a 'StringIO' object.\n",
            "  df = pd.read_html(results.summary().tables[1].as_html(),header=0,index_col=0)[0].reset_index()\n"
          ]
        },
        {
          "name": "stdout",
          "output_type": "stream",
          "text": [
            "Private Facility\n",
            "          Variable  Coefficent (Impact)      Account Type\n",
            "5  Sales_Contact_2               6.6223  Private Facility\n",
            "Large Facility \n",
            "          Variable  Coefficent (Impact)     Account Type\n",
            "4  Sales_Contact_1              11.6731  Large Facility \n",
            "7  Sales_Contact_4              10.6145  Large Facility \n",
            "5  Sales_Contact_2               4.0031  Large Facility \n",
            "2   Campaign_Flyer               2.7204  Large Facility \n",
            "6  Sales_Contact_3               2.0316  Large Facility \n",
            "3   Campaign_Phone              -3.5361  Large Facility \n"
          ]
        },
        {
          "name": "stderr",
          "output_type": "stream",
          "text": [
            "C:\\Users\\callu\\AppData\\Local\\Temp\\ipykernel_11584\\2475560057.py:6: FutureWarning: Passing literal html to 'read_html' is deprecated and will be removed in a future version. To read from a literal string, wrap it in a 'StringIO' object.\n",
            "  df = pd.read_html(results.summary().tables[1].as_html(),header=0,index_col=0)[0].reset_index()\n",
            "C:\\Users\\callu\\AppData\\Local\\Temp\\ipykernel_11584\\2475560057.py:6: FutureWarning: Passing literal html to 'read_html' is deprecated and will be removed in a future version. To read from a literal string, wrap it in a 'StringIO' object.\n",
            "  df = pd.read_html(results.summary().tables[1].as_html(),header=0,index_col=0)[0].reset_index()\n"
          ]
        }
      ],
      "source": [
        "consolidated_summary=pd.DataFrame()\n",
        "for acctype in list(set(list(data['Client_Type']))):\n",
        "    temp_data=data[data['Client_Type']==acctype].copy()\n",
        "    results = smf.ols('Amount_Collected ~ Campaign_Email+Campaign_Flyer+Campaign_Phone+\\\n",
        "       Sales_Contact_1 + Sales_Contact_2 + Sales_Contact_3+Sales_Contact_4 + Sales_Contact_5', data=temp_data).fit()\n",
        "    df = pd.read_html(results.summary().tables[1].as_html(),header=0,index_col=0)[0].reset_index()\n",
        "    df=df[df['P>|t|']<0.05][['index','coef']]\n",
        "    df.columns=['Variable','Coefficent (Impact)']\n",
        "    df['Account Type']=acctype\n",
        "    df=df.sort_values('Coefficent (Impact)',ascending=False)\n",
        "    df=df[df['Variable']!='Intercept']\n",
        "    print(acctype)\n",
        "   #  consolidated_summary=consolidated_summary.concat(df)\n",
        "    consolidated_summary = pd.concat([consolidated_summary, df])\n",
        "    print(df)\n",
        "    #print(results.summary())\n",
        "    "
      ]
    },
    {
      "cell_type": "code",
      "execution_count": 53,
      "id": "1836964f",
      "metadata": {
        "colab": {
          "base_uri": "https://localhost:8080/"
        },
        "id": "1836964f",
        "outputId": "9a4d4157-c232-4cec-9684-1691321ee47b",
        "scrolled": true
      },
      "outputs": [
        {
          "name": "stdout",
          "output_type": "stream",
          "text": [
            "Medium Facility\n"
          ]
        },
        {
          "name": "stderr",
          "output_type": "stream",
          "text": [
            "C:\\Users\\callu\\AppData\\Local\\Temp\\ipykernel_11584\\661246422.py:9: FutureWarning: Passing literal html to 'read_html' is deprecated and will be removed in a future version. To read from a literal string, wrap it in a 'StringIO' object.\n",
            "  df = pd.read_html(results.summary().tables[1].as_html(),header=0,index_col=0)[0].reset_index()\n"
          ]
        },
        {
          "name": "stdout",
          "output_type": "stream",
          "text": [
            "                            OLS Regression Results                            \n",
            "==============================================================================\n",
            "Dep. Variable:       Amount_Collected   R-squared:                       0.437\n",
            "Model:                            OLS   Adj. R-squared:                  0.428\n",
            "Method:                 Least Squares   F-statistic:                     48.00\n",
            "Date:                Wed, 22 May 2024   Prob (F-statistic):           4.13e-57\n",
            "Time:                        10:02:20   Log-Likelihood:                -9461.9\n",
            "No. Observations:                 504   AIC:                         1.894e+04\n",
            "Df Residuals:                     495   BIC:                         1.898e+04\n",
            "Df Model:                           8                                         \n",
            "Covariance Type:            nonrobust                                         \n",
            "===================================================================================\n",
            "                      coef    std err          t      P>|t|      [0.025      0.975]\n",
            "-----------------------------------------------------------------------------------\n",
            "Intercept        5.682e+06   2.53e+06      2.241      0.025    7.01e+05    1.07e+07\n",
            "Campaign_Email      1.1260      1.287      0.875      0.382      -1.403       3.655\n",
            "Campaign_Flyer      4.1059      0.702      5.851      0.000       2.727       5.485\n",
            "Campaign_Phone      2.3077      3.014      0.766      0.444      -3.615       8.230\n",
            "Sales_Contact_1     3.1365      0.732      4.284      0.000       1.698       4.575\n",
            "Sales_Contact_2     3.5778      0.305     11.717      0.000       2.978       4.178\n",
            "Sales_Contact_3     2.1174      0.295      7.168      0.000       1.537       2.698\n",
            "Sales_Contact_4    -7.4136      4.497     -1.649      0.100     -16.250       1.422\n",
            "Sales_Contact_5     8.2368     10.845      0.760      0.448     -13.071      29.544\n",
            "==============================================================================\n",
            "Omnibus:                      103.101   Durbin-Watson:                   0.592\n",
            "Prob(Omnibus):                  0.000   Jarque-Bera (JB):              197.732\n",
            "Skew:                           1.144   Prob(JB):                     1.16e-43\n",
            "Kurtosis:                       5.045   Cond. No.                     1.44e+07\n",
            "==============================================================================\n",
            "\n",
            "Notes:\n",
            "[1] Standard Errors assume that the covariance matrix of the errors is correctly specified.\n",
            "[2] The condition number is large, 1.44e+07. This might indicate that there are\n",
            "strong multicollinearity or other numerical problems.\n",
            "Small Facility \n"
          ]
        },
        {
          "name": "stderr",
          "output_type": "stream",
          "text": [
            "C:\\Users\\callu\\AppData\\Local\\Temp\\ipykernel_11584\\661246422.py:9: FutureWarning: Passing literal html to 'read_html' is deprecated and will be removed in a future version. To read from a literal string, wrap it in a 'StringIO' object.\n",
            "  df = pd.read_html(results.summary().tables[1].as_html(),header=0,index_col=0)[0].reset_index()\n",
            "C:\\Users\\callu\\AppData\\Local\\Temp\\ipykernel_11584\\661246422.py:9: FutureWarning: Passing literal html to 'read_html' is deprecated and will be removed in a future version. To read from a literal string, wrap it in a 'StringIO' object.\n",
            "  df = pd.read_html(results.summary().tables[1].as_html(),header=0,index_col=0)[0].reset_index()\n"
          ]
        },
        {
          "name": "stdout",
          "output_type": "stream",
          "text": [
            "                            OLS Regression Results                            \n",
            "==============================================================================\n",
            "Dep. Variable:       Amount_Collected   R-squared:                       0.054\n",
            "Model:                            OLS   Adj. R-squared:                  0.046\n",
            "Method:                 Least Squares   F-statistic:                     6.829\n",
            "Date:                Wed, 22 May 2024   Prob (F-statistic):           6.63e-08\n",
            "Time:                        10:02:20   Log-Likelihood:                -14125.\n",
            "No. Observations:                 840   AIC:                         2.827e+04\n",
            "Df Residuals:                     832   BIC:                         2.830e+04\n",
            "Df Model:                           7                                         \n",
            "Covariance Type:            nonrobust                                         \n",
            "===================================================================================\n",
            "                      coef    std err          t      P>|t|      [0.025      0.975]\n",
            "-----------------------------------------------------------------------------------\n",
            "Intercept        8.789e+05   2.07e+05      4.252      0.000    4.73e+05    1.28e+06\n",
            "Campaign_Email      1.8882      1.344      1.405      0.160      -0.750       4.526\n",
            "Campaign_Flyer      0.0753      0.268      0.281      0.778      -0.450       0.600\n",
            "Campaign_Phone  -3.044e-06   7.16e-07     -4.252      0.000   -4.45e-06   -1.64e-06\n",
            "Sales_Contact_1    -0.9764      1.655     -0.590      0.555      -4.224       2.271\n",
            "Sales_Contact_2     0.8101      0.130      6.218      0.000       0.554       1.066\n",
            "Sales_Contact_3     0.3277      0.198      1.656      0.098      -0.061       0.716\n",
            "Sales_Contact_4     0.4837      4.427      0.109      0.913      -8.206       9.173\n",
            "Sales_Contact_5    -2.6243      7.996     -0.328      0.743     -18.319      13.070\n",
            "==============================================================================\n",
            "Omnibus:                      985.034   Durbin-Watson:                   1.006\n",
            "Prob(Omnibus):                  0.000   Jarque-Bera (JB):            97146.151\n",
            "Skew:                           5.770   Prob(JB):                         0.00\n",
            "Kurtosis:                      54.405   Cond. No.                     1.04e+17\n",
            "==============================================================================\n",
            "\n",
            "Notes:\n",
            "[1] Standard Errors assume that the covariance matrix of the errors is correctly specified.\n",
            "[2] The smallest eigenvalue is 1.88e-19. This might indicate that there are\n",
            "strong multicollinearity problems or that the design matrix is singular.\n",
            "Private Facility\n",
            "                            OLS Regression Results                            \n",
            "==============================================================================\n",
            "Dep. Variable:       Amount_Collected   R-squared:                       0.346\n",
            "Model:                            OLS   Adj. R-squared:                  0.326\n",
            "Method:                 Least Squares   F-statistic:                     16.88\n",
            "Date:                Wed, 22 May 2024   Prob (F-statistic):           4.63e-20\n",
            "Time:                        10:02:20   Log-Likelihood:                -4650.8\n",
            "No. Observations:                 264   AIC:                             9320.\n",
            "Df Residuals:                     255   BIC:                             9352.\n",
            "Df Model:                           8                                         \n",
            "Covariance Type:            nonrobust                                         \n",
            "===================================================================================\n",
            "                      coef    std err          t      P>|t|      [0.025      0.975]\n",
            "-----------------------------------------------------------------------------------\n",
            "Intercept        4.439e+05    8.3e+05      0.535      0.593   -1.19e+06    2.08e+06\n",
            "Campaign_Email      6.6806     17.292      0.386      0.700     -27.374      40.735\n",
            "Campaign_Flyer      1.6661      1.125      1.482      0.140      -0.548       3.881\n",
            "Campaign_Phone      7.8827     10.196      0.773      0.440     -12.197      27.962\n",
            "Sales_Contact_1   -88.9282     47.497     -1.872      0.062    -182.465       4.608\n",
            "Sales_Contact_2     6.6223      0.718      9.220      0.000       5.208       8.037\n",
            "Sales_Contact_3    -0.7264      0.893     -0.814      0.417      -2.485       1.032\n",
            "Sales_Contact_4    19.4954     19.966      0.976      0.330     -19.824      58.815\n",
            "Sales_Contact_5    21.7693     13.600      1.601      0.111      -5.013      48.552\n",
            "==============================================================================\n",
            "Omnibus:                      274.961   Durbin-Watson:                   1.110\n",
            "Prob(Omnibus):                  0.000   Jarque-Bera (JB):             9920.407\n",
            "Skew:                           4.276   Prob(JB):                         0.00\n",
            "Kurtosis:                      31.788   Cond. No.                     1.79e+06\n",
            "==============================================================================\n",
            "\n",
            "Notes:\n",
            "[1] Standard Errors assume that the covariance matrix of the errors is correctly specified.\n",
            "[2] The condition number is large, 1.79e+06. This might indicate that there are\n",
            "strong multicollinearity or other numerical problems.\n",
            "Large Facility \n",
            "                            OLS Regression Results                            \n",
            "==============================================================================\n",
            "Dep. Variable:       Amount_Collected   R-squared:                       0.371\n",
            "Model:                            OLS   Adj. R-squared:                  0.367\n",
            "Method:                 Least Squares   F-statistic:                     100.2\n",
            "Date:                Wed, 22 May 2024   Prob (F-statistic):          4.64e-131\n",
            "Time:                        10:02:20   Log-Likelihood:                -25075.\n",
            "No. Observations:                1368   AIC:                         5.017e+04\n",
            "Df Residuals:                    1359   BIC:                         5.021e+04\n",
            "Df Model:                           8                                         \n",
            "Covariance Type:            nonrobust                                         \n",
            "===================================================================================\n",
            "                      coef    std err          t      P>|t|      [0.025      0.975]\n",
            "-----------------------------------------------------------------------------------\n",
            "Intercept        2.812e+06   9.29e+05      3.026      0.003    9.89e+05    4.63e+06\n",
            "Campaign_Email      0.7886      0.936      0.842      0.400      -1.048       2.625\n",
            "Campaign_Flyer      2.7204      0.352      7.739      0.000       2.031       3.410\n",
            "Campaign_Phone     -3.5361      1.333     -2.653      0.008      -6.151      -0.921\n",
            "Sales_Contact_1    11.6731      1.246      9.368      0.000       9.229      14.117\n",
            "Sales_Contact_2     4.0031      0.239     16.718      0.000       3.533       4.473\n",
            "Sales_Contact_3     2.0316      0.246      8.266      0.000       1.549       2.514\n",
            "Sales_Contact_4    10.6145      1.260      8.423      0.000       8.143      13.086\n",
            "Sales_Contact_5    -3.6385      6.703     -0.543      0.587     -16.789       9.512\n",
            "==============================================================================\n",
            "Omnibus:                      334.998   Durbin-Watson:                   0.655\n",
            "Prob(Omnibus):                  0.000   Jarque-Bera (JB):             1353.896\n",
            "Skew:                           1.121   Prob(JB):                    1.01e-294\n",
            "Kurtosis:                       7.327   Cond. No.                     6.22e+06\n",
            "==============================================================================\n",
            "\n",
            "Notes:\n",
            "[1] Standard Errors assume that the covariance matrix of the errors is correctly specified.\n",
            "[2] The condition number is large, 6.22e+06. This might indicate that there are\n",
            "strong multicollinearity or other numerical problems.\n"
          ]
        },
        {
          "name": "stderr",
          "output_type": "stream",
          "text": [
            "C:\\Users\\callu\\AppData\\Local\\Temp\\ipykernel_11584\\661246422.py:9: FutureWarning: Passing literal html to 'read_html' is deprecated and will be removed in a future version. To read from a literal string, wrap it in a 'StringIO' object.\n",
            "  df = pd.read_html(results.summary().tables[1].as_html(),header=0,index_col=0)[0].reset_index()\n"
          ]
        }
      ],
      "source": [
        "import statsmodels.api as sm\n",
        "import statsmodels.formula.api as smf\n",
        "consolidated_summary=pd.DataFrame()\n",
        "for acctype in list(set(list(data['Client_Type']))):\n",
        "    print(acctype)\n",
        "    temp_data=data[data['Client_Type']==acctype].copy()\n",
        "    results = smf.ols('Amount_Collected ~ Campaign_Email+Campaign_Flyer+Campaign_Phone+\\\n",
        "       Sales_Contact_1 + Sales_Contact_2 + Sales_Contact_3+Sales_Contact_4 + Sales_Contact_5', data=temp_data).fit()\n",
        "    df = pd.read_html(results.summary().tables[1].as_html(),header=0,index_col=0)[0].reset_index()\n",
        "    df=df[df['P>|t|']<0.05][['index','coef']]\n",
        "    df.columns=['Variable','Coefficent (Impact)']\n",
        "    df['Account Type']=acctype\n",
        "    df=df.sort_values('Coefficent (Impact)',ascending=False)\n",
        "    df=df[df['Variable']!='Intercept']\n",
        "    consolidated_summary = pd.concat([consolidated_summary, df])\n",
        "    print(results.summary())"
      ]
    },
    {
      "cell_type": "markdown",
      "id": "e0954dab",
      "metadata": {
        "id": "e0954dab"
      },
      "source": [
        "### 5. Final Recommendations"
      ]
    },
    {
      "cell_type": "markdown",
      "id": "530bf294",
      "metadata": {
        "id": "530bf294"
      },
      "source": [
        "Using the below table we can use the coefficent to see how much return we can derive from each dollar we spend, here we can clearly see that for different account type different Campaigns and Different Sales Contact are effective with different extend. \n",
        "\n",
        "<b>Case Explanation - Medium Facility </b><br>\n",
        "For Example Medium Facility shows decent results with Flyer Campiagns and each dollar spend return 4 dollars on average. Sales Contact 2 is highly effective followed by Sales Contact 1 and Sales Contact 3. Else all other strategy shows no impact can be dropped to save cost. \n"
      ]
    },
    {
      "cell_type": "code",
      "execution_count": 54,
      "id": "s3-UKuRHOe2t",
      "metadata": {
        "colab": {
          "base_uri": "https://localhost:8080/",
          "height": 457
        },
        "id": "s3-UKuRHOe2t",
        "outputId": "64a44047-6962-4b64-acef-06463b70d425"
      },
      "outputs": [
        {
          "data": {
            "text/html": [
              "<div>\n",
              "<style scoped>\n",
              "    .dataframe tbody tr th:only-of-type {\n",
              "        vertical-align: middle;\n",
              "    }\n",
              "\n",
              "    .dataframe tbody tr th {\n",
              "        vertical-align: top;\n",
              "    }\n",
              "\n",
              "    .dataframe thead th {\n",
              "        text-align: right;\n",
              "    }\n",
              "</style>\n",
              "<table border=\"1\" class=\"dataframe\">\n",
              "  <thead>\n",
              "    <tr style=\"text-align: right;\">\n",
              "      <th></th>\n",
              "      <th>Variable</th>\n",
              "      <th>Coefficent (Impact)</th>\n",
              "      <th>Account Type</th>\n",
              "    </tr>\n",
              "  </thead>\n",
              "  <tbody>\n",
              "    <tr>\n",
              "      <th>2</th>\n",
              "      <td>Campaign_Flyer</td>\n",
              "      <td>4.105900</td>\n",
              "      <td>Medium Facility</td>\n",
              "    </tr>\n",
              "    <tr>\n",
              "      <th>5</th>\n",
              "      <td>Sales_Contact_2</td>\n",
              "      <td>3.577800</td>\n",
              "      <td>Medium Facility</td>\n",
              "    </tr>\n",
              "    <tr>\n",
              "      <th>4</th>\n",
              "      <td>Sales_Contact_1</td>\n",
              "      <td>3.136500</td>\n",
              "      <td>Medium Facility</td>\n",
              "    </tr>\n",
              "    <tr>\n",
              "      <th>6</th>\n",
              "      <td>Sales_Contact_3</td>\n",
              "      <td>2.117400</td>\n",
              "      <td>Medium Facility</td>\n",
              "    </tr>\n",
              "    <tr>\n",
              "      <th>5</th>\n",
              "      <td>Sales_Contact_2</td>\n",
              "      <td>0.810100</td>\n",
              "      <td>Small Facility</td>\n",
              "    </tr>\n",
              "    <tr>\n",
              "      <th>3</th>\n",
              "      <td>Campaign_Phone</td>\n",
              "      <td>-0.000003</td>\n",
              "      <td>Small Facility</td>\n",
              "    </tr>\n",
              "    <tr>\n",
              "      <th>5</th>\n",
              "      <td>Sales_Contact_2</td>\n",
              "      <td>6.622300</td>\n",
              "      <td>Private Facility</td>\n",
              "    </tr>\n",
              "    <tr>\n",
              "      <th>4</th>\n",
              "      <td>Sales_Contact_1</td>\n",
              "      <td>11.673100</td>\n",
              "      <td>Large Facility</td>\n",
              "    </tr>\n",
              "    <tr>\n",
              "      <th>7</th>\n",
              "      <td>Sales_Contact_4</td>\n",
              "      <td>10.614500</td>\n",
              "      <td>Large Facility</td>\n",
              "    </tr>\n",
              "    <tr>\n",
              "      <th>5</th>\n",
              "      <td>Sales_Contact_2</td>\n",
              "      <td>4.003100</td>\n",
              "      <td>Large Facility</td>\n",
              "    </tr>\n",
              "    <tr>\n",
              "      <th>2</th>\n",
              "      <td>Campaign_Flyer</td>\n",
              "      <td>2.720400</td>\n",
              "      <td>Large Facility</td>\n",
              "    </tr>\n",
              "    <tr>\n",
              "      <th>6</th>\n",
              "      <td>Sales_Contact_3</td>\n",
              "      <td>2.031600</td>\n",
              "      <td>Large Facility</td>\n",
              "    </tr>\n",
              "    <tr>\n",
              "      <th>3</th>\n",
              "      <td>Campaign_Phone</td>\n",
              "      <td>-3.536100</td>\n",
              "      <td>Large Facility</td>\n",
              "    </tr>\n",
              "  </tbody>\n",
              "</table>\n",
              "</div>"
            ],
            "text/plain": [
              "          Variable  Coefficent (Impact)      Account Type\n",
              "2   Campaign_Flyer             4.105900   Medium Facility\n",
              "5  Sales_Contact_2             3.577800   Medium Facility\n",
              "4  Sales_Contact_1             3.136500   Medium Facility\n",
              "6  Sales_Contact_3             2.117400   Medium Facility\n",
              "5  Sales_Contact_2             0.810100   Small Facility \n",
              "3   Campaign_Phone            -0.000003   Small Facility \n",
              "5  Sales_Contact_2             6.622300  Private Facility\n",
              "4  Sales_Contact_1            11.673100   Large Facility \n",
              "7  Sales_Contact_4            10.614500   Large Facility \n",
              "5  Sales_Contact_2             4.003100   Large Facility \n",
              "2   Campaign_Flyer             2.720400   Large Facility \n",
              "6  Sales_Contact_3             2.031600   Large Facility \n",
              "3   Campaign_Phone            -3.536100   Large Facility "
            ]
          },
          "execution_count": 54,
          "metadata": {},
          "output_type": "execute_result"
        }
      ],
      "source": [
        "consolidated_summary"
      ]
    },
    {
      "cell_type": "code",
      "execution_count": 55,
      "id": "ea4d864e",
      "metadata": {
        "id": "ea4d864e"
      },
      "outputs": [],
      "source": [
        "consolidated_summary.reset_index(inplace=True)\n",
        "consolidated_summary.drop('index',inplace=True,axis=1)"
      ]
    },
    {
      "cell_type": "code",
      "execution_count": 56,
      "id": "1-h0HuRzNqp3",
      "metadata": {
        "colab": {
          "base_uri": "https://localhost:8080/",
          "height": 457
        },
        "id": "1-h0HuRzNqp3",
        "outputId": "edd317b3-4d1d-4b48-e2d4-dece7821011c"
      },
      "outputs": [
        {
          "data": {
            "text/html": [
              "<style type=\"text/css\">\n",
              "#T_a42e5_row0_col1 {\n",
              "  background-color: #feffbe;\n",
              "  color: #000000;\n",
              "}\n",
              "#T_a42e5_row1_col1 {\n",
              "  background-color: #fff5ae;\n",
              "  color: #000000;\n",
              "}\n",
              "#T_a42e5_row2_col1 {\n",
              "  background-color: #feeb9d;\n",
              "  color: #000000;\n",
              "}\n",
              "#T_a42e5_row3_col1 {\n",
              "  background-color: #fed07e;\n",
              "  color: #000000;\n",
              "}\n",
              "#T_a42e5_row4_col1 {\n",
              "  background-color: #fba35c;\n",
              "  color: #000000;\n",
              "}\n",
              "#T_a42e5_row5_col1 {\n",
              "  background-color: #f67f4b;\n",
              "  color: #f1f1f1;\n",
              "}\n",
              "#T_a42e5_row6_col1 {\n",
              "  background-color: #b7e075;\n",
              "  color: #000000;\n",
              "}\n",
              "#T_a42e5_row7_col1 {\n",
              "  background-color: #006837;\n",
              "  color: #f1f1f1;\n",
              "}\n",
              "#T_a42e5_row8_col1 {\n",
              "  background-color: #128a49;\n",
              "  color: #f1f1f1;\n",
              "}\n",
              "#T_a42e5_row9_col1 {\n",
              "  background-color: #fffdbc;\n",
              "  color: #000000;\n",
              "}\n",
              "#T_a42e5_row10_col1 {\n",
              "  background-color: #fee28f;\n",
              "  color: #000000;\n",
              "}\n",
              "#T_a42e5_row11_col1 {\n",
              "  background-color: #fecc7b;\n",
              "  color: #000000;\n",
              "}\n",
              "#T_a42e5_row12_col1 {\n",
              "  background-color: #a50026;\n",
              "  color: #f1f1f1;\n",
              "}\n",
              "</style>\n",
              "<table id=\"T_a42e5\">\n",
              "  <thead>\n",
              "    <tr>\n",
              "      <th class=\"blank level0\" >&nbsp;</th>\n",
              "      <th id=\"T_a42e5_level0_col0\" class=\"col_heading level0 col0\" >Variable</th>\n",
              "      <th id=\"T_a42e5_level0_col1\" class=\"col_heading level0 col1\" >Return on Investment</th>\n",
              "      <th id=\"T_a42e5_level0_col2\" class=\"col_heading level0 col2\" >Account Type</th>\n",
              "    </tr>\n",
              "  </thead>\n",
              "  <tbody>\n",
              "    <tr>\n",
              "      <th id=\"T_a42e5_level0_row0\" class=\"row_heading level0 row0\" >0</th>\n",
              "      <td id=\"T_a42e5_row0_col0\" class=\"data row0 col0\" >Campaign_Flyer</td>\n",
              "      <td id=\"T_a42e5_row0_col1\" class=\"data row0 col1\" >4.100000</td>\n",
              "      <td id=\"T_a42e5_row0_col2\" class=\"data row0 col2\" >Medium Facility</td>\n",
              "    </tr>\n",
              "    <tr>\n",
              "      <th id=\"T_a42e5_level0_row1\" class=\"row_heading level0 row1\" >1</th>\n",
              "      <td id=\"T_a42e5_row1_col0\" class=\"data row1 col0\" >Sales_Contact_2</td>\n",
              "      <td id=\"T_a42e5_row1_col1\" class=\"data row1 col1\" >3.600000</td>\n",
              "      <td id=\"T_a42e5_row1_col2\" class=\"data row1 col2\" >Medium Facility</td>\n",
              "    </tr>\n",
              "    <tr>\n",
              "      <th id=\"T_a42e5_level0_row2\" class=\"row_heading level0 row2\" >2</th>\n",
              "      <td id=\"T_a42e5_row2_col0\" class=\"data row2 col0\" >Sales_Contact_1</td>\n",
              "      <td id=\"T_a42e5_row2_col1\" class=\"data row2 col1\" >3.100000</td>\n",
              "      <td id=\"T_a42e5_row2_col2\" class=\"data row2 col2\" >Medium Facility</td>\n",
              "    </tr>\n",
              "    <tr>\n",
              "      <th id=\"T_a42e5_level0_row3\" class=\"row_heading level0 row3\" >3</th>\n",
              "      <td id=\"T_a42e5_row3_col0\" class=\"data row3 col0\" >Sales_Contact_3</td>\n",
              "      <td id=\"T_a42e5_row3_col1\" class=\"data row3 col1\" >2.100000</td>\n",
              "      <td id=\"T_a42e5_row3_col2\" class=\"data row3 col2\" >Medium Facility</td>\n",
              "    </tr>\n",
              "    <tr>\n",
              "      <th id=\"T_a42e5_level0_row4\" class=\"row_heading level0 row4\" >4</th>\n",
              "      <td id=\"T_a42e5_row4_col0\" class=\"data row4 col0\" >Sales_Contact_2</td>\n",
              "      <td id=\"T_a42e5_row4_col1\" class=\"data row4 col1\" >0.800000</td>\n",
              "      <td id=\"T_a42e5_row4_col2\" class=\"data row4 col2\" >Small Facility </td>\n",
              "    </tr>\n",
              "    <tr>\n",
              "      <th id=\"T_a42e5_level0_row5\" class=\"row_heading level0 row5\" >5</th>\n",
              "      <td id=\"T_a42e5_row5_col0\" class=\"data row5 col0\" >Campaign_Phone</td>\n",
              "      <td id=\"T_a42e5_row5_col1\" class=\"data row5 col1\" >-0.000000</td>\n",
              "      <td id=\"T_a42e5_row5_col2\" class=\"data row5 col2\" >Small Facility </td>\n",
              "    </tr>\n",
              "    <tr>\n",
              "      <th id=\"T_a42e5_level0_row6\" class=\"row_heading level0 row6\" >6</th>\n",
              "      <td id=\"T_a42e5_row6_col0\" class=\"data row6 col0\" >Sales_Contact_2</td>\n",
              "      <td id=\"T_a42e5_row6_col1\" class=\"data row6 col1\" >6.600000</td>\n",
              "      <td id=\"T_a42e5_row6_col2\" class=\"data row6 col2\" >Private Facility</td>\n",
              "    </tr>\n",
              "    <tr>\n",
              "      <th id=\"T_a42e5_level0_row7\" class=\"row_heading level0 row7\" >7</th>\n",
              "      <td id=\"T_a42e5_row7_col0\" class=\"data row7 col0\" >Sales_Contact_1</td>\n",
              "      <td id=\"T_a42e5_row7_col1\" class=\"data row7 col1\" >11.700000</td>\n",
              "      <td id=\"T_a42e5_row7_col2\" class=\"data row7 col2\" >Large Facility </td>\n",
              "    </tr>\n",
              "    <tr>\n",
              "      <th id=\"T_a42e5_level0_row8\" class=\"row_heading level0 row8\" >8</th>\n",
              "      <td id=\"T_a42e5_row8_col0\" class=\"data row8 col0\" >Sales_Contact_4</td>\n",
              "      <td id=\"T_a42e5_row8_col1\" class=\"data row8 col1\" >10.600000</td>\n",
              "      <td id=\"T_a42e5_row8_col2\" class=\"data row8 col2\" >Large Facility </td>\n",
              "    </tr>\n",
              "    <tr>\n",
              "      <th id=\"T_a42e5_level0_row9\" class=\"row_heading level0 row9\" >9</th>\n",
              "      <td id=\"T_a42e5_row9_col0\" class=\"data row9 col0\" >Sales_Contact_2</td>\n",
              "      <td id=\"T_a42e5_row9_col1\" class=\"data row9 col1\" >4.000000</td>\n",
              "      <td id=\"T_a42e5_row9_col2\" class=\"data row9 col2\" >Large Facility </td>\n",
              "    </tr>\n",
              "    <tr>\n",
              "      <th id=\"T_a42e5_level0_row10\" class=\"row_heading level0 row10\" >10</th>\n",
              "      <td id=\"T_a42e5_row10_col0\" class=\"data row10 col0\" >Campaign_Flyer</td>\n",
              "      <td id=\"T_a42e5_row10_col1\" class=\"data row10 col1\" >2.700000</td>\n",
              "      <td id=\"T_a42e5_row10_col2\" class=\"data row10 col2\" >Large Facility </td>\n",
              "    </tr>\n",
              "    <tr>\n",
              "      <th id=\"T_a42e5_level0_row11\" class=\"row_heading level0 row11\" >11</th>\n",
              "      <td id=\"T_a42e5_row11_col0\" class=\"data row11 col0\" >Sales_Contact_3</td>\n",
              "      <td id=\"T_a42e5_row11_col1\" class=\"data row11 col1\" >2.000000</td>\n",
              "      <td id=\"T_a42e5_row11_col2\" class=\"data row11 col2\" >Large Facility </td>\n",
              "    </tr>\n",
              "    <tr>\n",
              "      <th id=\"T_a42e5_level0_row12\" class=\"row_heading level0 row12\" >12</th>\n",
              "      <td id=\"T_a42e5_row12_col0\" class=\"data row12 col0\" >Campaign_Phone</td>\n",
              "      <td id=\"T_a42e5_row12_col1\" class=\"data row12 col1\" >-3.500000</td>\n",
              "      <td id=\"T_a42e5_row12_col2\" class=\"data row12 col2\" >Large Facility </td>\n",
              "    </tr>\n",
              "  </tbody>\n",
              "</table>\n"
            ],
            "text/plain": [
              "<pandas.io.formats.style.Styler at 0x216d9e05300>"
            ]
          },
          "execution_count": 56,
          "metadata": {},
          "output_type": "execute_result"
        }
      ],
      "source": [
        "consolidated_summary.columns = ['Variable','Return on Investment','Account Type']\n",
        "consolidated_summary['Return on Investment']= consolidated_summary['Return on Investment'].apply(lambda x: round(x,1))\n",
        "consolidated_summary.style.background_gradient(cmap='RdYlGn')"
      ]
    },
    {
      "cell_type": "code",
      "execution_count": 57,
      "id": "mUnfYiZKPyV5",
      "metadata": {
        "id": "mUnfYiZKPyV5"
      },
      "outputs": [],
      "source": [
        "import seaborn as sns\n",
        "import matplotlib.pyplot as plt "
      ]
    },
    {
      "cell_type": "code",
      "execution_count": 58,
      "id": "pbB87e4CRp2f",
      "metadata": {
        "id": "pbB87e4CRp2f"
      },
      "outputs": [],
      "source": [
        "def format(x):\n",
        "        return \"${:.1f}\".format(x)\n",
        "consolidated_summary['Return on Investment']  = consolidated_summary['Return on Investment'].apply(format)"
      ]
    },
    {
      "cell_type": "code",
      "execution_count": 59,
      "id": "KYCgua_ASEOx",
      "metadata": {
        "colab": {
          "base_uri": "https://localhost:8080/",
          "height": 457
        },
        "id": "KYCgua_ASEOx",
        "outputId": "eccfd3e9-cfeb-4b67-99f3-0133662d7067"
      },
      "outputs": [
        {
          "data": {
            "text/html": [
              "<style type=\"text/css\">\n",
              "</style>\n",
              "<table id=\"T_9fd00\">\n",
              "  <thead>\n",
              "    <tr>\n",
              "      <th class=\"blank level0\" >&nbsp;</th>\n",
              "      <th id=\"T_9fd00_level0_col0\" class=\"col_heading level0 col0\" >Variable</th>\n",
              "      <th id=\"T_9fd00_level0_col1\" class=\"col_heading level0 col1\" >Return on Investment</th>\n",
              "      <th id=\"T_9fd00_level0_col2\" class=\"col_heading level0 col2\" >Account Type</th>\n",
              "    </tr>\n",
              "  </thead>\n",
              "  <tbody>\n",
              "    <tr>\n",
              "      <th id=\"T_9fd00_level0_row0\" class=\"row_heading level0 row0\" >0</th>\n",
              "      <td id=\"T_9fd00_row0_col0\" class=\"data row0 col0\" >Campaign_Flyer</td>\n",
              "      <td id=\"T_9fd00_row0_col1\" class=\"data row0 col1\" >$4.1</td>\n",
              "      <td id=\"T_9fd00_row0_col2\" class=\"data row0 col2\" >Medium Facility</td>\n",
              "    </tr>\n",
              "    <tr>\n",
              "      <th id=\"T_9fd00_level0_row1\" class=\"row_heading level0 row1\" >1</th>\n",
              "      <td id=\"T_9fd00_row1_col0\" class=\"data row1 col0\" >Sales_Contact_2</td>\n",
              "      <td id=\"T_9fd00_row1_col1\" class=\"data row1 col1\" >$3.6</td>\n",
              "      <td id=\"T_9fd00_row1_col2\" class=\"data row1 col2\" >Medium Facility</td>\n",
              "    </tr>\n",
              "    <tr>\n",
              "      <th id=\"T_9fd00_level0_row2\" class=\"row_heading level0 row2\" >2</th>\n",
              "      <td id=\"T_9fd00_row2_col0\" class=\"data row2 col0\" >Sales_Contact_1</td>\n",
              "      <td id=\"T_9fd00_row2_col1\" class=\"data row2 col1\" >$3.1</td>\n",
              "      <td id=\"T_9fd00_row2_col2\" class=\"data row2 col2\" >Medium Facility</td>\n",
              "    </tr>\n",
              "    <tr>\n",
              "      <th id=\"T_9fd00_level0_row3\" class=\"row_heading level0 row3\" >3</th>\n",
              "      <td id=\"T_9fd00_row3_col0\" class=\"data row3 col0\" >Sales_Contact_3</td>\n",
              "      <td id=\"T_9fd00_row3_col1\" class=\"data row3 col1\" >$2.1</td>\n",
              "      <td id=\"T_9fd00_row3_col2\" class=\"data row3 col2\" >Medium Facility</td>\n",
              "    </tr>\n",
              "    <tr>\n",
              "      <th id=\"T_9fd00_level0_row4\" class=\"row_heading level0 row4\" >4</th>\n",
              "      <td id=\"T_9fd00_row4_col0\" class=\"data row4 col0\" >Sales_Contact_2</td>\n",
              "      <td id=\"T_9fd00_row4_col1\" class=\"data row4 col1\" >$0.8</td>\n",
              "      <td id=\"T_9fd00_row4_col2\" class=\"data row4 col2\" >Small Facility </td>\n",
              "    </tr>\n",
              "    <tr>\n",
              "      <th id=\"T_9fd00_level0_row5\" class=\"row_heading level0 row5\" >5</th>\n",
              "      <td id=\"T_9fd00_row5_col0\" class=\"data row5 col0\" >Campaign_Phone</td>\n",
              "      <td id=\"T_9fd00_row5_col1\" class=\"data row5 col1\" >$-0.0</td>\n",
              "      <td id=\"T_9fd00_row5_col2\" class=\"data row5 col2\" >Small Facility </td>\n",
              "    </tr>\n",
              "    <tr>\n",
              "      <th id=\"T_9fd00_level0_row6\" class=\"row_heading level0 row6\" >6</th>\n",
              "      <td id=\"T_9fd00_row6_col0\" class=\"data row6 col0\" >Sales_Contact_2</td>\n",
              "      <td id=\"T_9fd00_row6_col1\" class=\"data row6 col1\" >$6.6</td>\n",
              "      <td id=\"T_9fd00_row6_col2\" class=\"data row6 col2\" >Private Facility</td>\n",
              "    </tr>\n",
              "    <tr>\n",
              "      <th id=\"T_9fd00_level0_row7\" class=\"row_heading level0 row7\" >7</th>\n",
              "      <td id=\"T_9fd00_row7_col0\" class=\"data row7 col0\" >Sales_Contact_1</td>\n",
              "      <td id=\"T_9fd00_row7_col1\" class=\"data row7 col1\" >$11.7</td>\n",
              "      <td id=\"T_9fd00_row7_col2\" class=\"data row7 col2\" >Large Facility </td>\n",
              "    </tr>\n",
              "    <tr>\n",
              "      <th id=\"T_9fd00_level0_row8\" class=\"row_heading level0 row8\" >8</th>\n",
              "      <td id=\"T_9fd00_row8_col0\" class=\"data row8 col0\" >Sales_Contact_4</td>\n",
              "      <td id=\"T_9fd00_row8_col1\" class=\"data row8 col1\" >$10.6</td>\n",
              "      <td id=\"T_9fd00_row8_col2\" class=\"data row8 col2\" >Large Facility </td>\n",
              "    </tr>\n",
              "    <tr>\n",
              "      <th id=\"T_9fd00_level0_row9\" class=\"row_heading level0 row9\" >9</th>\n",
              "      <td id=\"T_9fd00_row9_col0\" class=\"data row9 col0\" >Sales_Contact_2</td>\n",
              "      <td id=\"T_9fd00_row9_col1\" class=\"data row9 col1\" >$4.0</td>\n",
              "      <td id=\"T_9fd00_row9_col2\" class=\"data row9 col2\" >Large Facility </td>\n",
              "    </tr>\n",
              "    <tr>\n",
              "      <th id=\"T_9fd00_level0_row10\" class=\"row_heading level0 row10\" >10</th>\n",
              "      <td id=\"T_9fd00_row10_col0\" class=\"data row10 col0\" >Campaign_Flyer</td>\n",
              "      <td id=\"T_9fd00_row10_col1\" class=\"data row10 col1\" >$2.7</td>\n",
              "      <td id=\"T_9fd00_row10_col2\" class=\"data row10 col2\" >Large Facility </td>\n",
              "    </tr>\n",
              "    <tr>\n",
              "      <th id=\"T_9fd00_level0_row11\" class=\"row_heading level0 row11\" >11</th>\n",
              "      <td id=\"T_9fd00_row11_col0\" class=\"data row11 col0\" >Sales_Contact_3</td>\n",
              "      <td id=\"T_9fd00_row11_col1\" class=\"data row11 col1\" >$2.0</td>\n",
              "      <td id=\"T_9fd00_row11_col2\" class=\"data row11 col2\" >Large Facility </td>\n",
              "    </tr>\n",
              "    <tr>\n",
              "      <th id=\"T_9fd00_level0_row12\" class=\"row_heading level0 row12\" >12</th>\n",
              "      <td id=\"T_9fd00_row12_col0\" class=\"data row12 col0\" >Campaign_Phone</td>\n",
              "      <td id=\"T_9fd00_row12_col1\" class=\"data row12 col1\" >$-3.5</td>\n",
              "      <td id=\"T_9fd00_row12_col2\" class=\"data row12 col2\" >Large Facility </td>\n",
              "    </tr>\n",
              "  </tbody>\n",
              "</table>\n"
            ],
            "text/plain": [
              "<pandas.io.formats.style.Styler at 0x216db7a6350>"
            ]
          },
          "execution_count": 59,
          "metadata": {},
          "output_type": "execute_result"
        }
      ],
      "source": [
        "consolidated_summary.columns = ['Variable','Return on Investment','Account Type']\n",
        "consolidated_summary.style.background_gradient(cmap='RdYlGn')"
      ]
    },
    {
      "cell_type": "code",
      "execution_count": null,
      "id": "wP5PJGD5E0i3",
      "metadata": {
        "colab": {
          "base_uri": "https://localhost:8080/",
          "height": 17
        },
        "id": "wP5PJGD5E0i3",
        "outputId": "bec963ad-853f-4c0e-b3e7-80dd5264a30d"
      },
      "outputs": [],
      "source": [
        "consolidated_summary.to_csv('consolidated_summary.csv')\n",
        "files.download('consolidated_summary.csv')"
      ]
    }
  ],
  "metadata": {
    "colab": {
      "collapsed_sections": [],
      "name": "Marketing Strategy.ipynb",
      "provenance": []
    },
    "kernelspec": {
      "display_name": "Python 3 (ipykernel)",
      "language": "python",
      "name": "python3"
    },
    "language_info": {
      "codemirror_mode": {
        "name": "ipython",
        "version": 3
      },
      "file_extension": ".py",
      "mimetype": "text/x-python",
      "name": "python",
      "nbconvert_exporter": "python",
      "pygments_lexer": "ipython3",
      "version": "3.10.9"
    }
  },
  "nbformat": 4,
  "nbformat_minor": 5
}
